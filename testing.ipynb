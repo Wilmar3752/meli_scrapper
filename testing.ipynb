{
 "cells": [
  {
   "cell_type": "code",
   "execution_count": 1,
   "metadata": {},
   "outputs": [],
   "source": [
    "%load_ext autoreload\n",
    "%autoreload 2\n",
    "import requests\n",
    "from bs4 import BeautifulSoup\n",
    "import pandas as pd\n",
    "from lxml import etree\n",
    "import datetime\n",
    "import json"
   ]
  },
  {
   "cell_type": "code",
   "execution_count": 2,
   "metadata": {},
   "outputs": [
    {
     "name": "stdout",
     "output_type": "stream",
     "text": [
      "200\n",
      "{\"data\":{\"dirtrad\":\"CR 57 22 A 41 BOGOTA\",\"validacion\":\"99\",\"validacionPlaca\":\"99\",\"fuente\":\"NUEVA\",\"dirAlterna\":\"NO CAMBIO\",\"esambigua\":\"\",\"barrioTraducido\":\"\",\"coddireccion\":\"0000000000KR0570220A0000000041000000000000000000000000000000000000000000000000\",\"coddirplaca\":\"0000000000KR0570220A0000000041\",\"nivsocio\":\"4\",\"barrio\":\"CJR PARQUE DE CADIZ\",\"localidad\":\"TEUSAQUILLO\",\"longitude\":\"-74.10259114\",\"latitude\":\"4.64089395\",\"zonapostal\":\"111321229\",\"coddane\":\"11001000\",\"estado\":\"M\"},\"message\":\"Geocodificacion Exitosa.\",\"success\":true,\"total_georreferenciadas_hoy\":10,\"code\":\"200\",\"geo_limite\":20,\"descripcion\":\"Aun queda un total de 10 direcciones disponibles para el dia de hoy\"}\n"
     ]
    }
   ],
   "source": [
    "import requests\n",
    "\n",
    "url = \"https://www.sitimapa.com.co/server_side/georreferenciadorDirecciones_dian.php\"\n",
    "data = {\"direccion\": \"carrera 57 22a 41 bogota\"}\n",
    "\n",
    "response = requests.post(url, data=data)\n",
    "\n",
    "print(response.status_code)\n",
    "print(response.text)"
   ]
  },
  {
   "cell_type": "code",
   "execution_count": 32,
   "metadata": {},
   "outputs": [],
   "source": [
    "data = pd.read_csv('final_data_async.csv', index_col=0)"
   ]
  },
  {
   "cell_type": "code",
   "execution_count": 33,
   "metadata": {},
   "outputs": [],
   "source": [
    "json_data = data.to_json(orient='records')\n"
   ]
  },
  {
   "cell_type": "code",
   "execution_count": 37,
   "metadata": {},
   "outputs": [
    {
     "data": {
      "text/plain": [
       "'[{\"carro\":\"Renault Duster 1.6 Dynamique Gt 4x2\",\"price\":47500000,\"link\":\"https:\\\\/\\\\/carro.mercadolibre.com.co\\\\/MCO-2151389978-renault-duster-16-dynamique-gt-_JM#position=1&search_layout=grid&type=item&tracking_id=a954cc2a-099c-416b-821a-cd14c0f7e95b\",\"carro_info\":\"{\\'Year\\': \\'2015\\', \\'Kilometrage\\': \\'75300 \\', \\'Publication Date\\': \\'Publicado hace 1 d\\\\u00eda\\', \\'Location\\': \\'La Colina Campestre - Suba - Bogot\\\\u00e1 D.C.\\', \\'Pub Number\\': \\'2151389978\\', \\'Created At\\': \\'2024-01-14 14:57:14\\'}\"},{\"carro\":\"Bmw X1 2.0 Sdrive 18d\",\"price\":96000000,\"link\":\"https:\\\\/\\\\/carro.mercadolibre.com.co\\\\/MCO-2151412446-bmw-x1-20-sdrive-18d-_JM#position=2&search_layout=grid&type=item&tracking_id=a954cc2a-099c-416b-821a-cd14c0f7e95b\",\"carro_info\":\"{\\'Year\\': \\'2017\\', \\'Kilometrage\\': \\'88523 \\', \\'Publication Date\\': \\'Publicado hace 1 d\\\\u00eda\\', \\'Location\\': \\'Santa B\\\\u00e1rbara II - Suba - Bogot\\\\u00e1 D.C.\\', \\'Pub Number\\': \\'2151412446\\', \\'Created At\\': \\'2024-01-14 14:57:15\\'}\"},{\"carro\":\"Volkswagen Gol 1.6 Ls\",\"price\":31000000,\"link\":\"https:\\\\/\\\\/carro.mercadolibre.com.co\\\\/MCO-1381296575-volkswagen-gol-16-ls-_JM#position=3&search_layout=grid&type=item&tracking_id=a954cc2a-099c-416b-821a-cd14c0f7e95b\",\"carro_info\":\"{\\'Year\\': \\'2021\\', \\'Kilometrage\\': \\'93574 \\', \\'Publication Date\\': \\'Publicado hace 1 d\\\\u00eda\\', \\'Location\\': \\'Alcal\\\\u00e1 - Suba - Bogot\\\\u00e1 D.C.\\', \\'Pub Number\\': \\'1381296575\\', \\'Created At\\': \\'2024-01-14 14:57:15\\'}\"},{\"carro\":\"Volkswagen Jetta 2.5 Trendline\",\"price\":50000000,\"link\":\"https:\\\\/\\\\/carro.mercadolibre.com.co\\\\/MCO-1381212941-volkswagen-nuevo-jetta-25-trendline-_JM#position=4&search_layout=grid&type=item&tracking_id=a954cc2a-099c-416b-821a-cd14c0f7e95b\",\"carro_info\":\"{\\'Year\\': \\'2013\\', \\'Kilometrage\\': \\'47600 \\', \\'Publication Date\\': \\'Publicado hace 1 d\\\\u00eda\\', \\'Location\\': \\'Bosque de Los Lagartos - Suba - Bogot\\\\u00e1 D.C.\\', \\'Pub Number\\': \\'1381212941\\', \\'Created At\\': \\'2024-01-14 14:57:14\\'}\"},{\"carro\":\"Ford Explorer 2.3 Xlt Ecoobost\",\"price\":171000000,\"link\":\"https:\\\\/\\\\/carro.mercadolibre.com.co\\\\/MCO-1381237755-ford-explorer-23-xlt-ecoobost-_JM#position=5&search_layout=grid&type=item&tracking_id=a954cc2a-099c-416b-821a-cd14c0f7e95b\",\"carro_info\":\"{\\'Year\\': \\'2021\\', \\'Kilometrage\\': \\'33000 \\', \\'Publication Date\\': \\'Publicado hace 1 d\\\\u00eda\\', \\'Location\\': \\'Niza - Suba - Bogot\\\\u00e1 D.C.\\', \\'Pub Number\\': \\'1381237755\\', \\'Created At\\': \\'2024-01-14 14:57:14\\'}\"},{\"carro\":\"Mercedes-benz Clase Gla 200 1.6\",\"price\":128900000,\"link\":\"https:\\\\/\\\\/carro.mercadolibre.com.co\\\\/MCO-1381220785-mercedes-benz-clase-gla-200-16-_JM#position=6&search_layout=grid&type=item&tracking_id=a954cc2a-099c-416b-821a-cd14c0f7e95b\",\"carro_info\":\"{\\'Year\\': \\'2020\\', \\'Kilometrage\\': \\'15850 \\', \\'Publication Date\\': \\'Publicado hace 1 d\\\\u00eda\\', \\'Location\\': \\'La Colina Campestre - Suba - Bogot\\\\u00e1 D.C.\\', \\'Pub Number\\': \\'1381220785\\', \\'Created At\\': \\'2024-01-14 14:57:15\\'}\"},{\"carro\":\"Volkswagen Gol 1.6 Trendline\",\"price\":42700000,\"link\":\"https:\\\\/\\\\/carro.mercadolibre.com.co\\\\/MCO-1381220111-volkswagen-gol-16-trendline-_JM#position=7&search_layout=grid&type=item&tracking_id=a954cc2a-099c-416b-821a-cd14c0f7e95b\",\"carro_info\":\"{\\'Year\\': \\'2020\\', \\'Kilometrage\\': \\'19350 \\', \\'Publication Date\\': \\'Publicado hace 1 d\\\\u00eda\\', \\'Location\\': \\'La Calleja - Usaqu\\\\u00e9n - Bogot\\\\u00e1 D.C.\\', \\'Pub Number\\': \\'1381220111\\', \\'Created At\\': \\'2024-01-14 14:57:15\\'}\"},{\"carro\":\"Renault Sandero 1.6 Life 2020\",\"price\":45000000,\"link\":\"https:\\\\/\\\\/carro.mercadolibre.com.co\\\\/MCO-1381125467-renault-sandero-16-life-2020-_JM#position=8&search_layout=grid&type=item&tracking_id=a954cc2a-099c-416b-821a-cd14c0f7e95b\",\"carro_info\":\"{\\'Year\\': \\'2020\\', \\'Kilometrage\\': \\'36980 \\', \\'Publication Date\\': \\'Publicado hace 1 d\\\\u00eda\\', \\'Location\\': \\'Mazur\\\\u00e9n - Suba - Bogot\\\\u00e1 D.C.\\', \\'Pub Number\\': \\'1381125467\\', \\'Created At\\': \\'2024-01-14 14:57:14\\'}\"},{\"carro\":\"Renault Clio F.iv Expression\",\"price\":27000000,\"link\":\"https:\\\\/\\\\/carro.mercadolibre.com.co\\\\/MCO-2149885558-renault-clio-fiv-expression-at-16-_JM#position=9&search_layout=grid&type=item&tracking_id=a954cc2a-099c-416b-821a-cd14c0f7e95b\",\"carro_info\":\"{\\'Year\\': \\'2011\\', \\'Kilometrage\\': \\'38772 \\', \\'Publication Date\\': \\'Publicado hace 1 d\\\\u00eda\\', \\'Location\\': \\'El Nogal - Chapinero - Bogot\\\\u00e1 D.C.\\', \\'Pub Number\\': \\'2149885558\\', \\'Created At\\': \\'2024-01-14 14:57:15\\'}\"},{\"carro\":\"Mercedes-benz Clase A 1.4 A200 2020\",\"price\":112000000,\"link\":\"https:\\\\/\\\\/carro.mercadolibre.com.co\\\\/MCO-1381138037-mercedes-benz-clase-a-14-a200-2020-_JM#position=10&search_layout=grid&type=item&tracking_id=a954cc2a-099c-416b-821a-cd14c0f7e95b\",\"carro_info\":\"{\\'Year\\': \\'2020\\', \\'Kilometrage\\': \\'9500 \\', \\'Publication Date\\': \\'Publicado hace 1 d\\\\u00eda\\', \\'Location\\': \\'Puente Largo - Suba - Bogot\\\\u00e1 D.C.\\', \\'Pub Number\\': \\'1381138037\\', \\'Created At\\': \\'2024-01-14 14:57:14\\'}\"},{\"carro\":\"Mazda 3 1.6\",\"price\":24000000,\"link\":\"https:\\\\/\\\\/carro.mercadolibre.com.co\\\\/MCO-1381073433-mazda-3-z6nm7-mt-16-_JM#position=11&search_layout=grid&type=item&tracking_id=a954cc2a-099c-416b-821a-cd14c0f7e95b\",\"carro_info\":\"{\\'Year\\': \\'2008\\', \\'Kilometrage\\': \\'121000 \\', \\'Publication Date\\': \\'Publicado hace 1 d\\\\u00eda\\', \\'Location\\': \\'Alhambra - Suba - Bogot\\\\u00e1 D.C.\\', \\'Pub Number\\': \\'1381073433\\', \\'Created At\\': \\'2024-01-14 14:57:14\\'}\"},{\"carro\":\"Mercedes-benz Clase C 1.5\",\"price\":215000000,\"link\":\"https:\\\\/\\\\/carro.mercadolibre.com.co\\\\/MCO-1381124779-mercedes-benz-c-200-15-_JM#position=12&search_layout=grid&type=item&tracking_id=a954cc2a-099c-416b-821a-cd14c0f7e95b\",\"carro_info\":\"{\\'Year\\': \\'2023\\', \\'Kilometrage\\': \\'12685 \\', \\'Publication Date\\': \\'Publicado hace 1 d\\\\u00eda\\', \\'Location\\': \\'Pasadena - Suba - Bogot\\\\u00e1 D.C.\\', \\'Pub Number\\': \\'1381124779\\', \\'Created At\\': \\'2024-01-14 14:57:14\\'}\"},{\"carro\":\"Kia Rio 1.25\",\"price\":54000000,\"link\":\"https:\\\\/\\\\/carro.mercadolibre.com.co\\\\/MCO-2149885048-kia-rio-re-125-mt-12-_JM#position=13&search_layout=grid&type=item&tracking_id=a954cc2a-099c-416b-821a-cd14c0f7e95b\",\"carro_info\":\"{\\'Year\\': \\'2018\\', \\'Kilometrage\\': \\'47000 \\', \\'Publication Date\\': \\'Publicado hace 1 d\\\\u00eda\\', \\'Location\\': \\'El Muelle - Engativa - Bogot\\\\u00e1 D.C.\\', \\'Pub Number\\': \\'2149885048\\', \\'Created At\\': \\'2024-01-14 14:57:14\\'}\"},{\"carro\":\"Chevrolet Spark 1.0 Life\",\"price\":30800000,\"link\":\"https:\\\\/\\\\/carro.mercadolibre.com.co\\\\/MCO-1381111741-chevrolet-spark-life-mt-10-_JM#position=14&search_layout=grid&type=item&tracking_id=a954cc2a-099c-416b-821a-cd14c0f7e95b\",\"carro_info\":\"{\\'Year\\': \\'2018\\', \\'Kilometrage\\': \\'38800 \\', \\'Publication Date\\': \\'Publicado hace 1 d\\\\u00eda\\', \\'Location\\': \\'Bella Suiza - Usaqu\\\\u00e9n - Bogot\\\\u00e1 D.C.\\', \\'Pub Number\\': \\'1381111741\\', \\'Created At\\': \\'2024-01-14 14:57:14\\'}\"},{\"carro\":\"Nissan Tiida Sd 1.8\",\"price\":27500000,\"link\":\"https:\\\\/\\\\/carro.mercadolibre.com.co\\\\/MCO-1381073113-nissan-tiida-sd-miio-at-18-_JM#position=15&search_layout=grid&type=item&tracking_id=a954cc2a-099c-416b-821a-cd14c0f7e95b\",\"carro_info\":\"{\\'Year\\': \\'2012\\', \\'Kilometrage\\': \\'180000 \\', \\'Publication Date\\': \\'Publicado hace 1 d\\\\u00eda\\', \\'Location\\': \\'Fontib\\\\u00f3n Centro - Fontib\\\\u00f3n - Bogot\\\\u00e1 D.C.\\', \\'Pub Number\\': \\'1381073113\\', \\'Created At\\': \\'2024-01-14 14:57:14\\'}\"},{\"carro\":\"Toyota Fortuner 2.4 4x2 2021\",\"price\":198000000,\"link\":\"https:\\\\/\\\\/carro.mercadolibre.com.co\\\\/MCO-2149884680-toyota-fortuner-24-4x2-2021-_JM#position=16&search_layout=grid&type=item&tracking_id=a954cc2a-099c-416b-821a-cd14c0f7e95b\",\"carro_info\":\"{\\'Year\\': \\'2021\\', \\'Kilometrage\\': \\'18000 \\', \\'Publication Date\\': \\'Publicado hace 1 d\\\\u00eda\\', \\'Location\\': \\'Alameda 170 - Usaqu\\\\u00e9n - Bogot\\\\u00e1 D.C.\\', \\'Pub Number\\': \\'2149884680\\', \\'Created At\\': \\'2024-01-14 14:57:15\\'}\"},{\"carro\":\"Volkswagen Jetta 2.5 Nf 20211\",\"price\":38500000,\"link\":\"https:\\\\/\\\\/carro.mercadolibre.com.co\\\\/MCO-1381060047-volkswagen-jetta-25-nf-20211-_JM#position=17&search_layout=grid&type=item&tracking_id=a954cc2a-099c-416b-821a-cd14c0f7e95b\",\"carro_info\":\"{\\'Year\\': \\'2011\\', \\'Kilometrage\\': \\'118000 \\', \\'Publication Date\\': \\'Publicado hace 1 d\\\\u00eda\\', \\'Location\\': \\'Colina Campestre I y II Etapa - Suba - Bogot\\\\u00e1 D.C.\\', \\'Pub Number\\': \\'1381060047\\', \\'Created At\\': \\'2024-01-14 14:57:14\\'}\"},{\"carro\":\"Renault Logan 1.6 Intens 2022\",\"price\":62000000,\"link\":\"https:\\\\/\\\\/carro.mercadolibre.com.co\\\\/MCO-1381124087-renault-logan-16-intens-2022-_JM#position=18&search_layout=grid&type=item&tracking_id=a954cc2a-099c-416b-821a-cd14c0f7e95b\",\"carro_info\":\"{\\'Year\\': \\'2022\\', \\'Kilometrage\\': \\'21000 \\', \\'Publication Date\\': \\'Publicado hace 1 d\\\\u00eda\\', \\'Location\\': \\'Prado Pinz\\\\u00f3n - Suba - Bogot\\\\u00e1 D.C.\\', \\'Pub Number\\': \\'1381124087\\', \\'Created At\\': \\'2024-01-14 14:57:14\\'}\"},{\"carro\":\"Mazda Cx-5 2.0 High Fwd 2015\",\"price\":69000000,\"link\":\"https:\\\\/\\\\/carro.mercadolibre.com.co\\\\/MCO-1381136797-mazda-cx5-20-high-fwd-2015-_JM#position=19&search_layout=grid&type=item&tracking_id=a954cc2a-099c-416b-821a-cd14c0f7e95b\",\"carro_info\":\"{\\'Year\\': \\'2015\\', \\'Kilometrage\\': \\'94000 \\', \\'Publication Date\\': \\'Publicado hace 1 d\\\\u00eda\\', \\'Location\\': \\'Chic\\\\u00f3 Navarra - Usaqu\\\\u00e9n - Bogot\\\\u00e1 D.C.\\', \\'Pub Number\\': \\'1381136797\\', \\'Created At\\': \\'2024-01-14 14:57:14\\'}\"},{\"carro\":\"Renault Fluence 1.6 Confort 2013\",\"price\":30000000,\"link\":\"https:\\\\/\\\\/carro.mercadolibre.com.co\\\\/MCO-1381047517-renault-fluence-16-confort-2013-_JM#position=20&search_layout=grid&type=item&tracking_id=a954cc2a-099c-416b-821a-cd14c0f7e95b\",\"carro_info\":\"{\\'Year\\': \\'2013\\', \\'Kilometrage\\': \\'122000 \\', \\'Publication Date\\': \\'Publicado hace 1 d\\\\u00eda\\', \\'Location\\': \\'Cedritos - Usaqu\\\\u00e9n - Bogot\\\\u00e1 D.C.\\', \\'Pub Number\\': \\'1381047517\\', \\'Created At\\': \\'2024-01-14 14:57:14\\'}\"},{\"carro\":\"Volkswagen Bora 2.5 Prestige 2008\",\"price\":33000000,\"link\":\"https:\\\\/\\\\/carro.mercadolibre.com.co\\\\/MCO-1381110881-volkswagen-bora-25-prestige-2008-_JM#position=21&search_layout=grid&type=item&tracking_id=a954cc2a-099c-416b-821a-cd14c0f7e95b\",\"carro_info\":\"{\\'Year\\': \\'2008\\', \\'Kilometrage\\': \\'118200 \\', \\'Publication Date\\': \\'Publicado hace 1 d\\\\u00eda\\', \\'Location\\': \\'Bella Suiza - Usaqu\\\\u00e9n - Bogot\\\\u00e1 D.C.\\', \\'Pub Number\\': \\'1381110881\\', \\'Created At\\': \\'2024-01-14 14:57:15\\'}\"},{\"carro\":\"Mercedes-benz Clase A 1.4 A200 Amg Line 2022\",\"price\":155000000,\"link\":\"https:\\\\/\\\\/carro.mercadolibre.com.co\\\\/MCO-1381136471-mercedes-benz-clase-a-14-a200-amg-line-2022-_JM#position=22&search_layout=grid&type=item&tracking_id=a954cc2a-099c-416b-821a-cd14c0f7e95b\",\"carro_info\":\"{\\'Year\\': \\'2022\\', \\'Kilometrage\\': \\'9300 \\', \\'Publication Date\\': \\'Publicado hace 1 d\\\\u00eda\\', \\'Location\\': \\'Cedritos - Usaqu\\\\u00e9n - Bogot\\\\u00e1 D.C.\\', \\'Pub Number\\': \\'1381136471\\', \\'Created At\\': \\'2024-01-14 14:57:15\\'}\"},{\"carro\":\"Ford Escape 2.0 Se 4x2 2019\",\"price\":85000000,\"link\":\"https:\\\\/\\\\/carro.mercadolibre.com.co\\\\/MCO-1381059241-ford-escape-20-se-4x2-2019-_JM#position=23&search_layout=grid&type=item&tracking_id=a954cc2a-099c-416b-821a-cd14c0f7e95b\",\"carro_info\":\"{\\'Year\\': \\'2019\\', \\'Kilometrage\\': \\'39400 \\', \\'Publication Date\\': \\'Publicado hace 1 d\\\\u00eda\\', \\'Location\\': \\'Cedritos - Usaqu\\\\u00e9n - Bogot\\\\u00e1 D.C.\\', \\'Pub Number\\': \\'1381059241\\', \\'Created At\\': \\'2024-01-14 14:57:15\\'}\"},{\"carro\":\"Audi Q5 2.0 2015\",\"price\":90000000,\"link\":\"https:\\\\/\\\\/carro.mercadolibre.com.co\\\\/MCO-1381059077-audi-q5-20-2015-_JM#position=24&search_layout=grid&type=item&tracking_id=a954cc2a-099c-416b-821a-cd14c0f7e95b\",\"carro_info\":\"{\\'Year\\': \\'2015\\', \\'Kilometrage\\': \\'102000 \\', \\'Publication Date\\': \\'Publicado hace 1 d\\\\u00eda\\', \\'Location\\': \\'Santa Paula - Usaqu\\\\u00e9n - Bogot\\\\u00e1 D.C.\\', \\'Pub Number\\': \\'1381059077\\', \\'Created At\\': \\'2024-01-14 14:57:15\\'}\"},{\"carro\":\"Toyota 4runner 4.0 Sr5\",\"price\":315000000,\"link\":\"https:\\\\/\\\\/carro.mercadolibre.com.co\\\\/MCO-2149881448-toyota-4runner-40-sr5-_JM#position=25&search_layout=grid&type=item&tracking_id=a954cc2a-099c-416b-821a-cd14c0f7e95b\",\"carro_info\":\"{\\'Year\\': \\'2022\\', \\'Kilometrage\\': \\'25720 \\', \\'Publication Date\\': \\'Publicado hace 1 d\\\\u00eda\\', \\'Location\\': \\'Belmira - Usaqu\\\\u00e9n - Bogot\\\\u00e1 D.C.\\', \\'Pub Number\\': \\'2149881448\\', \\'Created At\\': \\'2024-01-14 14:57:15\\'}\"},{\"carro\":\"Renault Captur Intens\",\"price\":112000000,\"link\":\"https:\\\\/\\\\/carro.mercadolibre.com.co\\\\/MCO-2149629108-renault-captur-intens-2022-_JM#position=26&search_layout=grid&type=item&tracking_id=a954cc2a-099c-416b-821a-cd14c0f7e95b\",\"carro_info\":\"{\\'Year\\': \\'2022\\', \\'Kilometrage\\': \\'26350 \\', \\'Publication Date\\': \\'Publicado hace 1 d\\\\u00eda\\', \\'Location\\': \\'Funza - Cundinamarca\\', \\'Pub Number\\': \\'2149629108\\', \\'Created At\\': \\'2024-01-14 14:57:14\\'}\"},{\"carro\":\"Chevrolet Sonic Lt\",\"price\":42000000,\"link\":\"https:\\\\/\\\\/carro.mercadolibre.com.co\\\\/MCO-2149693060-chevrolet-sonic-lt-2016-_JM#position=27&search_layout=grid&type=item&tracking_id=a954cc2a-099c-416b-821a-cd14c0f7e95b\",\"carro_info\":\"{\\'Year\\': \\'2016\\', \\'Kilometrage\\': \\'36000 \\', \\'Publication Date\\': \\'Publicado hace 1 d\\\\u00eda\\', \\'Location\\': \\'Rafael Nu\\\\u00f1ez - Teusaquillo - Bogot\\\\u00e1 D.C.\\', \\'Pub Number\\': \\'2149693060\\', \\'Created At\\': \\'2024-01-14 14:57:14\\'}\"},{\"carro\":\"Jeep Grand Cherokee 3.6 Limited\",\"price\":178000000,\"link\":\"https:\\\\/\\\\/carro.mercadolibre.com.co\\\\/MCO-2149679508-jeep-grand-cherokee-36-limited-_JM#position=28&search_layout=grid&type=item&tracking_id=a954cc2a-099c-416b-821a-cd14c0f7e95b\",\"carro_info\":\"{\\'Year\\': \\'2020\\', \\'Kilometrage\\': \\'24000 \\', \\'Publication Date\\': \\'Publicado hace 1 d\\\\u00eda\\', \\'Location\\': \\'Cedritos - Usaqu\\\\u00e9n - Bogot\\\\u00e1 D.C.\\', \\'Pub Number\\': \\'2149679508\\', \\'Created At\\': \\'2024-01-14 14:57:15\\'}\"},{\"carro\":\"Nissan Note Sense\",\"price\":38000000,\"link\":\"https:\\\\/\\\\/carro.mercadolibre.com.co\\\\/MCO-2149743290-nissan-note-sense-2015-_JM#position=29&search_layout=grid&type=item&tracking_id=a954cc2a-099c-416b-821a-cd14c0f7e95b\",\"carro_info\":\"{\\'Year\\': \\'2015\\', \\'Kilometrage\\': \\'92000 \\', \\'Publication Date\\': \\'Publicado hace 1 d\\\\u00eda\\', \\'Location\\': \\'Capellan\\\\u00eda - Fontib\\\\u00f3n - Bogot\\\\u00e1 D.C.\\', \\'Pub Number\\': \\'2149743290\\', \\'Created At\\': \\'2024-01-14 14:57:15\\'}\"},{\"carro\":\"Peugeot 308 2.0 Premium\",\"price\":26000000,\"link\":\"https:\\\\/\\\\/carro.mercadolibre.com.co\\\\/MCO-2149614798-peugeot-308-_JM#position=30&search_layout=grid&type=item&tracking_id=a954cc2a-099c-416b-821a-cd14c0f7e95b\",\"carro_info\":\"{\\'Year\\': \\'2009\\', \\'Kilometrage\\': \\'127500 \\', \\'Publication Date\\': \\'Publicado hace 1 d\\\\u00eda\\', \\'Location\\': \\'Rinc\\\\u00f3n de Suba - Suba - Bogot\\\\u00e1 D.C.\\', \\'Pub Number\\': \\'2149614798\\', \\'Created At\\': \\'2024-01-14 14:57:15\\'}\"},{\"carro\":\"Honda Cr-v 2.4 Lx At\",\"price\":59900000,\"link\":\"https:\\\\/\\\\/carro.mercadolibre.com.co\\\\/MCO-2149879494-honda-crv-24-lx-at-2011-_JM#position=31&search_layout=grid&type=item&tracking_id=a954cc2a-099c-416b-821a-cd14c0f7e95b\",\"carro_info\":\"{\\'Year\\': \\'2011\\', \\'Kilometrage\\': \\'89729 \\', \\'Publication Date\\': \\'Publicado hace 1 d\\\\u00eda\\', \\'Location\\': \\'Benedictinos - Envigado - Antioquia\\', \\'Pub Number\\': \\'2149879494\\', \\'Created At\\': \\'2024-01-14 14:57:14\\'}\"},{\"carro\":\"Chevrolet Sonic 1.6 Lt 4 P Autom\\\\u00e1tica\",\"price\":45000000,\"link\":\"https:\\\\/\\\\/carro.mercadolibre.com.co\\\\/MCO-2149627440-chevrolet-sonic-_JM#position=32&search_layout=grid&type=item&tracking_id=a954cc2a-099c-416b-821a-cd14c0f7e95b\",\"carro_info\":\"{\\'Year\\': \\'2017\\', \\'Kilometrage\\': \\'77000 \\', \\'Publication Date\\': \\'Publicado hace 1 d\\\\u00eda\\', \\'Location\\': \\'Britalia - Suba - Bogot\\\\u00e1 D.C.\\', \\'Pub Number\\': \\'2149627440\\', \\'Created At\\': \\'2024-01-14 14:57:14\\'}\"},{\"carro\":\"Toyota Hilux 2.8l\",\"price\":198000000,\"link\":\"https:\\\\/\\\\/carro.mercadolibre.com.co\\\\/MCO-2149627156-toyota-hilux-28-_JM#position=33&search_layout=grid&type=item&tracking_id=a954cc2a-099c-416b-821a-cd14c0f7e95b\",\"carro_info\":\"{\\'Year\\': \\'2020\\', \\'Kilometrage\\': \\'50040 \\', \\'Publication Date\\': \\'Publicado hace 1 d\\\\u00eda\\', \\'Location\\': \\'El Poblado - Medell\\\\u00edn - Antioquia\\', \\'Pub Number\\': \\'2149627156\\', \\'Created At\\': \\'2024-01-14 14:57:14\\'}\"},{\"carro\":\"Ford Focus Titanium\",\"price\":38000000,\"link\":\"https:\\\\/\\\\/carro.mercadolibre.com.co\\\\/MCO-2149691262-ford-focus-titanium-2013-_JM#position=34&search_layout=grid&type=item&tracking_id=a954cc2a-099c-416b-821a-cd14c0f7e95b\",\"carro_info\":\"{\\'Year\\': \\'2013\\', \\'Kilometrage\\': \\'77946 \\', \\'Publication Date\\': \\'Publicado hace 1 d\\\\u00eda\\', \\'Location\\': \\'Alsacia - Kennedy - Bogot\\\\u00e1 D.C.\\', \\'Pub Number\\': \\'2149691262\\', \\'Created At\\': \\'2024-01-14 14:57:15\\'}\"},{\"carro\":\"Nissan X-trail 2.5 T32 2018\",\"price\":105000000,\"link\":\"https:\\\\/\\\\/carro.mercadolibre.com.co\\\\/MCO-2149678576-nissan-x-trail-25-t32-2018-_JM#position=35&search_layout=grid&type=item&tracking_id=a954cc2a-099c-416b-821a-cd14c0f7e95b\",\"carro_info\":\"{\\'Year\\': \\'2018\\', \\'Kilometrage\\': \\'29000 \\', \\'Publication Date\\': \\'Publicado hace 1 d\\\\u00eda\\', \\'Location\\': \\'Chic\\\\u00f3 Navarra - Usaqu\\\\u00e9n - Bogot\\\\u00e1 D.C.\\', \\'Pub Number\\': \\'2149678576\\', \\'Created At\\': \\'2024-01-14 14:57:15\\'}\"},{\"carro\":\"Toyota Rav4 2.0 4x2 2020\",\"price\":140000000,\"link\":\"https:\\\\/\\\\/carro.mercadolibre.com.co\\\\/MCO-2149626668-toyota-rav-4-20-4x2-2020-_JM#position=36&search_layout=grid&type=item&tracking_id=a954cc2a-099c-416b-821a-cd14c0f7e95b\",\"carro_info\":\"{\\'Year\\': \\'2020\\', \\'Kilometrage\\': \\'74000 \\', \\'Publication Date\\': \\'Publicado hace 1 d\\\\u00eda\\', \\'Location\\': \\'Cedritos - Usaqu\\\\u00e9n - Bogot\\\\u00e1 D.C.\\', \\'Pub Number\\': \\'2149626668\\', \\'Created At\\': \\'2024-01-14 14:57:14\\'}\"},{\"carro\":\"Volkswagen T-cross 1.0 Trendline 2021\",\"price\":90000000,\"link\":\"https:\\\\/\\\\/carro.mercadolibre.com.co\\\\/MCO-2149601754-volkswagen-tcross-10-trendline-2021-_JM#position=37&search_layout=grid&type=item&tracking_id=a954cc2a-099c-416b-821a-cd14c0f7e95b\",\"carro_info\":\"{\\'Year\\': \\'2021\\', \\'Kilometrage\\': \\'6654 \\', \\'Publication Date\\': \\'Publicado hace 1 d\\\\u00eda\\', \\'Location\\': \\'El Chic\\\\u00f3 - Chapinero - Bogot\\\\u00e1 D.C.\\', \\'Pub Number\\': \\'2149601754\\', \\'Created At\\': \\'2024-01-14 14:57:15\\'}\"},{\"carro\":\"Volkswagen Gol 1.6 Highline 2018\",\"price\":45000000,\"link\":\"https:\\\\/\\\\/carro.mercadolibre.com.co\\\\/MCO-2149665076-volkswagen-gol-16-highline-2018-_JM#position=38&search_layout=grid&type=item&tracking_id=a954cc2a-099c-416b-821a-cd14c0f7e95b\",\"carro_info\":\"{\\'Year\\': \\'2018\\', \\'Kilometrage\\': \\'46000 \\', \\'Publication Date\\': \\'Publicado hace 1 d\\\\u00eda\\', \\'Location\\': \\'Belmira - Usaqu\\\\u00e9n - Bogot\\\\u00e1 D.C.\\', \\'Pub Number\\': \\'2149665076\\', \\'Created At\\': \\'2024-01-14 14:57:15\\'}\"},{\"carro\":\"Chevrolet Tracker 1.8 Ltz\",\"price\":78000000,\"link\":\"https:\\\\/\\\\/carro.mercadolibre.com.co\\\\/MCO-2149626204-chevrolet-tracker-ltz-18-_JM#position=39&search_layout=grid&type=item&tracking_id=a954cc2a-099c-416b-821a-cd14c0f7e95b\",\"carro_info\":\"{\\'Year\\': \\'2020\\', \\'Kilometrage\\': \\'27578 \\', \\'Publication Date\\': \\'Publicado hace 1 d\\\\u00eda\\', \\'Location\\': \\'Alsacia - Kennedy - Bogot\\\\u00e1 D.C.\\', \\'Pub Number\\': \\'2149626204\\', \\'Created At\\': \\'2024-01-14 14:57:15\\'}\"},{\"carro\":\"Toyota Rav4 2.5\",\"price\":184900000,\"link\":\"https:\\\\/\\\\/carro.mercadolibre.com.co\\\\/MCO-2149716432-toyota-rav4-xle-hybrid-2500cc-4x4-_JM#position=40&search_layout=grid&type=item&tracking_id=a954cc2a-099c-416b-821a-cd14c0f7e95b\",\"carro_info\":\"{\\'Year\\': \\'2022\\', \\'Kilometrage\\': \\'23000 \\', \\'Publication Date\\': \\'Publicado hace 1 d\\\\u00eda\\', \\'Location\\': \\'Ch\\\\u00eda - Cundinamarca\\', \\'Pub Number\\': \\'2149716432\\', \\'Created At\\': \\'2024-01-14 14:57:15\\'}\"},{\"carro\":\"Renault Stepway Expression\\\\/zen\",\"price\":47000000,\"link\":\"https:\\\\/\\\\/carro.mercadolibre.com.co\\\\/MCO-2149741550-renault-stepway-expressionzen-2019-_JM#position=41&search_layout=grid&type=item&tracking_id=a954cc2a-099c-416b-821a-cd14c0f7e95b\",\"carro_info\":\"{\\'Year\\': \\'2019\\', \\'Kilometrage\\': \\'46104 \\', \\'Publication Date\\': \\'Publicado hace 1 d\\\\u00eda\\', \\'Location\\': \\'Ciudad Kennedy Central - Kennedy - Bogot\\\\u00e1 D.C.\\', \\'Pub Number\\': \\'2149741550\\', \\'Created At\\': \\'2024-01-14 14:57:15\\'}\"},{\"carro\":\"Jeep Grand Cherokee 3.6 Laredo\",\"price\":98000000,\"link\":\"https:\\\\/\\\\/carro.mercadolibre.com.co\\\\/MCO-2149664676-jeep-grand-cherokee-16-laredo-_JM#position=42&search_layout=grid&type=item&tracking_id=a954cc2a-099c-416b-821a-cd14c0f7e95b\",\"carro_info\":\"{\\'Year\\': \\'2014\\', \\'Kilometrage\\': \\'72000 \\', \\'Publication Date\\': \\'Publicado hace 1 d\\\\u00eda\\', \\'Location\\': \\'El Poblado - Medell\\\\u00edn - Antioquia\\', \\'Pub Number\\': \\'2149664676\\', \\'Created At\\': \\'2024-01-14 14:57:15\\'}\"},{\"carro\":\"Ford Ecosport 2.0 Titanium At\",\"price\":59300000,\"link\":\"https:\\\\/\\\\/carro.mercadolibre.com.co\\\\/MCO-2149877546-ford-ecosport-20-titanium-_JM#position=43&search_layout=grid&type=item&tracking_id=a954cc2a-099c-416b-821a-cd14c0f7e95b\",\"carro_info\":\"{\\'Year\\': \\'2017\\', \\'Kilometrage\\': \\'40600 \\', \\'Publication Date\\': \\'Publicado hace 1 d\\\\u00eda\\', \\'Location\\': \\'El Contador - Usaqu\\\\u00e9n - Bogot\\\\u00e1 D.C.\\', \\'Pub Number\\': \\'2149877546\\', \\'Created At\\': \\'2024-01-14 14:57:15\\'}\"},{\"carro\":\"Ford Edge 3.5 Limited Fl\",\"price\":59900200,\"link\":\"https:\\\\/\\\\/carro.mercadolibre.com.co\\\\/MCO-1381044243-ford-edge-limited-_JM#position=44&search_layout=grid&type=item&tracking_id=a954cc2a-099c-416b-821a-cd14c0f7e95b\",\"carro_info\":\"{\\'Year\\': \\'2013\\', \\'Kilometrage\\': \\'79000 \\', \\'Publication Date\\': \\'Publicado hace 1 d\\\\u00eda\\', \\'Location\\': \\'Cantalejo Sec. Alejandr\\\\u00eda - Suba - Bogot\\\\u00e1 D.C.\\', \\'Pub Number\\': \\'1381044243\\', \\'Created At\\': \\'2024-01-14 14:57:15\\'}\"},{\"carro\":\"Mercedes-benz Clase Cla 200 1.6 Urban\",\"price\":97900000,\"link\":\"https:\\\\/\\\\/carro.mercadolibre.com.co\\\\/MCO-2149600114-mercedes-benz-gla-200-16-urban-2018-_JM#position=45&search_layout=grid&type=item&tracking_id=a954cc2a-099c-416b-821a-cd14c0f7e95b\",\"carro_info\":\"{\\'Year\\': \\'2018\\', \\'Kilometrage\\': \\'93000 \\', \\'Publication Date\\': \\'Publicado hace 1 d\\\\u00eda\\', \\'Location\\': \\'Bel\\\\u00e9n La Mota - Medell\\\\u00edn - Antioquia\\', \\'Pub Number\\': \\'2149600114\\', \\'Created At\\': \\'2024-01-14 14:57:15\\'}\"},{\"carro\":\"Chevrolet Spark 1.2 Gt M300\",\"price\":24900000,\"link\":\"https:\\\\/\\\\/carro.mercadolibre.com.co\\\\/MCO-2149663906-chevrolet-spark-12-_JM#position=46&search_layout=grid&type=item&tracking_id=a954cc2a-099c-416b-821a-cd14c0f7e95b\",\"carro_info\":\"{\\'Year\\': \\'2012\\', \\'Kilometrage\\': \\'168700 \\', \\'Publication Date\\': \\'Publicado hace 1 d\\\\u00eda\\', \\'Location\\': \\'El Amparo - Kennedy - Bogot\\\\u00e1 D.C.\\', \\'Pub Number\\': \\'2149663906\\', \\'Created At\\': \\'2024-01-14 14:57:15\\'}\"},{\"carro\":\"Suzuki Xl7 1.5 Glx\",\"price\":82000000,\"link\":\"https:\\\\/\\\\/carro.mercadolibre.com.co\\\\/MCO-2149702340-suzuki-xl7-_JM#position=47&search_layout=grid&type=item&tracking_id=a954cc2a-099c-416b-821a-cd14c0f7e95b\",\"carro_info\":\"{\\'Year\\': \\'2021\\', \\'Kilometrage\\': \\'16000 \\', \\'Publication Date\\': \\'Publicado hace 1 d\\\\u00eda\\', \\'Location\\': \\'Salitre Nor - Occidental - Fontib\\\\u00f3n - Bogot\\\\u00e1 D.C.\\', \\'Pub Number\\': \\'2149702340\\', \\'Created At\\': \\'2024-01-14 14:57:15\\'}\"},{\"carro\":\"Audi A5 B8 Coupe\",\"price\":84000000,\"link\":\"https:\\\\/\\\\/carro.mercadolibre.com.co\\\\/MCO-2149611940-audi-a5-coupe-_JM#position=48&search_layout=grid&type=item&tracking_id=a954cc2a-099c-416b-821a-cd14c0f7e95b\",\"carro_info\":\"{\\'Year\\': \\'2014\\', \\'Kilometrage\\': \\'63000 \\', \\'Publication Date\\': \\'Publicado hace 1 d\\\\u00eda\\', \\'Location\\': \\'Nueva Marsella I, Ii  y III Sector - Kennedy - Bogot\\\\u00e1 D.C.\\', \\'Pub Number\\': \\'2149611940\\', \\'Created At\\': \\'2024-01-14 14:57:15\\'}\"}]'"
      ]
     },
     "execution_count": 37,
     "metadata": {},
     "output_type": "execute_result"
    }
   ],
   "source": [
    "9json_data"
   ]
  },
  {
   "cell_type": "code",
   "execution_count": 41,
   "metadata": {},
   "outputs": [],
   "source": [
    "out = json.loads(json_data)"
   ]
  },
  {
   "cell_type": "code",
   "execution_count": 44,
   "metadata": {},
   "outputs": [
    {
     "data": {
      "text/plain": [
       "[{'carro': 'Renault Duster 1.6 Dynamique Gt 4x2',\n",
       "  'price': 47500000,\n",
       "  'link': 'https://carro.mercadolibre.com.co/MCO-2151389978-renault-duster-16-dynamique-gt-_JM#position=1&search_layout=grid&type=item&tracking_id=a954cc2a-099c-416b-821a-cd14c0f7e95b',\n",
       "  'carro_info': \"{'Year': '2015', 'Kilometrage': '75300 ', 'Publication Date': 'Publicado hace 1 día', 'Location': 'La Colina Campestre - Suba - Bogotá D.C.', 'Pub Number': '2151389978', 'Created At': '2024-01-14 14:57:14'}\"},\n",
       " {'carro': 'Bmw X1 2.0 Sdrive 18d',\n",
       "  'price': 96000000,\n",
       "  'link': 'https://carro.mercadolibre.com.co/MCO-2151412446-bmw-x1-20-sdrive-18d-_JM#position=2&search_layout=grid&type=item&tracking_id=a954cc2a-099c-416b-821a-cd14c0f7e95b',\n",
       "  'carro_info': \"{'Year': '2017', 'Kilometrage': '88523 ', 'Publication Date': 'Publicado hace 1 día', 'Location': 'Santa Bárbara II - Suba - Bogotá D.C.', 'Pub Number': '2151412446', 'Created At': '2024-01-14 14:57:15'}\"},\n",
       " {'carro': 'Volkswagen Gol 1.6 Ls',\n",
       "  'price': 31000000,\n",
       "  'link': 'https://carro.mercadolibre.com.co/MCO-1381296575-volkswagen-gol-16-ls-_JM#position=3&search_layout=grid&type=item&tracking_id=a954cc2a-099c-416b-821a-cd14c0f7e95b',\n",
       "  'carro_info': \"{'Year': '2021', 'Kilometrage': '93574 ', 'Publication Date': 'Publicado hace 1 día', 'Location': 'Alcalá - Suba - Bogotá D.C.', 'Pub Number': '1381296575', 'Created At': '2024-01-14 14:57:15'}\"},\n",
       " {'carro': 'Volkswagen Jetta 2.5 Trendline',\n",
       "  'price': 50000000,\n",
       "  'link': 'https://carro.mercadolibre.com.co/MCO-1381212941-volkswagen-nuevo-jetta-25-trendline-_JM#position=4&search_layout=grid&type=item&tracking_id=a954cc2a-099c-416b-821a-cd14c0f7e95b',\n",
       "  'carro_info': \"{'Year': '2013', 'Kilometrage': '47600 ', 'Publication Date': 'Publicado hace 1 día', 'Location': 'Bosque de Los Lagartos - Suba - Bogotá D.C.', 'Pub Number': '1381212941', 'Created At': '2024-01-14 14:57:14'}\"},\n",
       " {'carro': 'Ford Explorer 2.3 Xlt Ecoobost',\n",
       "  'price': 171000000,\n",
       "  'link': 'https://carro.mercadolibre.com.co/MCO-1381237755-ford-explorer-23-xlt-ecoobost-_JM#position=5&search_layout=grid&type=item&tracking_id=a954cc2a-099c-416b-821a-cd14c0f7e95b',\n",
       "  'carro_info': \"{'Year': '2021', 'Kilometrage': '33000 ', 'Publication Date': 'Publicado hace 1 día', 'Location': 'Niza - Suba - Bogotá D.C.', 'Pub Number': '1381237755', 'Created At': '2024-01-14 14:57:14'}\"},\n",
       " {'carro': 'Mercedes-benz Clase Gla 200 1.6',\n",
       "  'price': 128900000,\n",
       "  'link': 'https://carro.mercadolibre.com.co/MCO-1381220785-mercedes-benz-clase-gla-200-16-_JM#position=6&search_layout=grid&type=item&tracking_id=a954cc2a-099c-416b-821a-cd14c0f7e95b',\n",
       "  'carro_info': \"{'Year': '2020', 'Kilometrage': '15850 ', 'Publication Date': 'Publicado hace 1 día', 'Location': 'La Colina Campestre - Suba - Bogotá D.C.', 'Pub Number': '1381220785', 'Created At': '2024-01-14 14:57:15'}\"},\n",
       " {'carro': 'Volkswagen Gol 1.6 Trendline',\n",
       "  'price': 42700000,\n",
       "  'link': 'https://carro.mercadolibre.com.co/MCO-1381220111-volkswagen-gol-16-trendline-_JM#position=7&search_layout=grid&type=item&tracking_id=a954cc2a-099c-416b-821a-cd14c0f7e95b',\n",
       "  'carro_info': \"{'Year': '2020', 'Kilometrage': '19350 ', 'Publication Date': 'Publicado hace 1 día', 'Location': 'La Calleja - Usaquén - Bogotá D.C.', 'Pub Number': '1381220111', 'Created At': '2024-01-14 14:57:15'}\"},\n",
       " {'carro': 'Renault Sandero 1.6 Life 2020',\n",
       "  'price': 45000000,\n",
       "  'link': 'https://carro.mercadolibre.com.co/MCO-1381125467-renault-sandero-16-life-2020-_JM#position=8&search_layout=grid&type=item&tracking_id=a954cc2a-099c-416b-821a-cd14c0f7e95b',\n",
       "  'carro_info': \"{'Year': '2020', 'Kilometrage': '36980 ', 'Publication Date': 'Publicado hace 1 día', 'Location': 'Mazurén - Suba - Bogotá D.C.', 'Pub Number': '1381125467', 'Created At': '2024-01-14 14:57:14'}\"},\n",
       " {'carro': 'Renault Clio F.iv Expression',\n",
       "  'price': 27000000,\n",
       "  'link': 'https://carro.mercadolibre.com.co/MCO-2149885558-renault-clio-fiv-expression-at-16-_JM#position=9&search_layout=grid&type=item&tracking_id=a954cc2a-099c-416b-821a-cd14c0f7e95b',\n",
       "  'carro_info': \"{'Year': '2011', 'Kilometrage': '38772 ', 'Publication Date': 'Publicado hace 1 día', 'Location': 'El Nogal - Chapinero - Bogotá D.C.', 'Pub Number': '2149885558', 'Created At': '2024-01-14 14:57:15'}\"},\n",
       " {'carro': 'Mercedes-benz Clase A 1.4 A200 2020',\n",
       "  'price': 112000000,\n",
       "  'link': 'https://carro.mercadolibre.com.co/MCO-1381138037-mercedes-benz-clase-a-14-a200-2020-_JM#position=10&search_layout=grid&type=item&tracking_id=a954cc2a-099c-416b-821a-cd14c0f7e95b',\n",
       "  'carro_info': \"{'Year': '2020', 'Kilometrage': '9500 ', 'Publication Date': 'Publicado hace 1 día', 'Location': 'Puente Largo - Suba - Bogotá D.C.', 'Pub Number': '1381138037', 'Created At': '2024-01-14 14:57:14'}\"},\n",
       " {'carro': 'Mazda 3 1.6',\n",
       "  'price': 24000000,\n",
       "  'link': 'https://carro.mercadolibre.com.co/MCO-1381073433-mazda-3-z6nm7-mt-16-_JM#position=11&search_layout=grid&type=item&tracking_id=a954cc2a-099c-416b-821a-cd14c0f7e95b',\n",
       "  'carro_info': \"{'Year': '2008', 'Kilometrage': '121000 ', 'Publication Date': 'Publicado hace 1 día', 'Location': 'Alhambra - Suba - Bogotá D.C.', 'Pub Number': '1381073433', 'Created At': '2024-01-14 14:57:14'}\"},\n",
       " {'carro': 'Mercedes-benz Clase C 1.5',\n",
       "  'price': 215000000,\n",
       "  'link': 'https://carro.mercadolibre.com.co/MCO-1381124779-mercedes-benz-c-200-15-_JM#position=12&search_layout=grid&type=item&tracking_id=a954cc2a-099c-416b-821a-cd14c0f7e95b',\n",
       "  'carro_info': \"{'Year': '2023', 'Kilometrage': '12685 ', 'Publication Date': 'Publicado hace 1 día', 'Location': 'Pasadena - Suba - Bogotá D.C.', 'Pub Number': '1381124779', 'Created At': '2024-01-14 14:57:14'}\"},\n",
       " {'carro': 'Kia Rio 1.25',\n",
       "  'price': 54000000,\n",
       "  'link': 'https://carro.mercadolibre.com.co/MCO-2149885048-kia-rio-re-125-mt-12-_JM#position=13&search_layout=grid&type=item&tracking_id=a954cc2a-099c-416b-821a-cd14c0f7e95b',\n",
       "  'carro_info': \"{'Year': '2018', 'Kilometrage': '47000 ', 'Publication Date': 'Publicado hace 1 día', 'Location': 'El Muelle - Engativa - Bogotá D.C.', 'Pub Number': '2149885048', 'Created At': '2024-01-14 14:57:14'}\"},\n",
       " {'carro': 'Chevrolet Spark 1.0 Life',\n",
       "  'price': 30800000,\n",
       "  'link': 'https://carro.mercadolibre.com.co/MCO-1381111741-chevrolet-spark-life-mt-10-_JM#position=14&search_layout=grid&type=item&tracking_id=a954cc2a-099c-416b-821a-cd14c0f7e95b',\n",
       "  'carro_info': \"{'Year': '2018', 'Kilometrage': '38800 ', 'Publication Date': 'Publicado hace 1 día', 'Location': 'Bella Suiza - Usaquén - Bogotá D.C.', 'Pub Number': '1381111741', 'Created At': '2024-01-14 14:57:14'}\"},\n",
       " {'carro': 'Nissan Tiida Sd 1.8',\n",
       "  'price': 27500000,\n",
       "  'link': 'https://carro.mercadolibre.com.co/MCO-1381073113-nissan-tiida-sd-miio-at-18-_JM#position=15&search_layout=grid&type=item&tracking_id=a954cc2a-099c-416b-821a-cd14c0f7e95b',\n",
       "  'carro_info': \"{'Year': '2012', 'Kilometrage': '180000 ', 'Publication Date': 'Publicado hace 1 día', 'Location': 'Fontibón Centro - Fontibón - Bogotá D.C.', 'Pub Number': '1381073113', 'Created At': '2024-01-14 14:57:14'}\"},\n",
       " {'carro': 'Toyota Fortuner 2.4 4x2 2021',\n",
       "  'price': 198000000,\n",
       "  'link': 'https://carro.mercadolibre.com.co/MCO-2149884680-toyota-fortuner-24-4x2-2021-_JM#position=16&search_layout=grid&type=item&tracking_id=a954cc2a-099c-416b-821a-cd14c0f7e95b',\n",
       "  'carro_info': \"{'Year': '2021', 'Kilometrage': '18000 ', 'Publication Date': 'Publicado hace 1 día', 'Location': 'Alameda 170 - Usaquén - Bogotá D.C.', 'Pub Number': '2149884680', 'Created At': '2024-01-14 14:57:15'}\"},\n",
       " {'carro': 'Volkswagen Jetta 2.5 Nf 20211',\n",
       "  'price': 38500000,\n",
       "  'link': 'https://carro.mercadolibre.com.co/MCO-1381060047-volkswagen-jetta-25-nf-20211-_JM#position=17&search_layout=grid&type=item&tracking_id=a954cc2a-099c-416b-821a-cd14c0f7e95b',\n",
       "  'carro_info': \"{'Year': '2011', 'Kilometrage': '118000 ', 'Publication Date': 'Publicado hace 1 día', 'Location': 'Colina Campestre I y II Etapa - Suba - Bogotá D.C.', 'Pub Number': '1381060047', 'Created At': '2024-01-14 14:57:14'}\"},\n",
       " {'carro': 'Renault Logan 1.6 Intens 2022',\n",
       "  'price': 62000000,\n",
       "  'link': 'https://carro.mercadolibre.com.co/MCO-1381124087-renault-logan-16-intens-2022-_JM#position=18&search_layout=grid&type=item&tracking_id=a954cc2a-099c-416b-821a-cd14c0f7e95b',\n",
       "  'carro_info': \"{'Year': '2022', 'Kilometrage': '21000 ', 'Publication Date': 'Publicado hace 1 día', 'Location': 'Prado Pinzón - Suba - Bogotá D.C.', 'Pub Number': '1381124087', 'Created At': '2024-01-14 14:57:14'}\"},\n",
       " {'carro': 'Mazda Cx-5 2.0 High Fwd 2015',\n",
       "  'price': 69000000,\n",
       "  'link': 'https://carro.mercadolibre.com.co/MCO-1381136797-mazda-cx5-20-high-fwd-2015-_JM#position=19&search_layout=grid&type=item&tracking_id=a954cc2a-099c-416b-821a-cd14c0f7e95b',\n",
       "  'carro_info': \"{'Year': '2015', 'Kilometrage': '94000 ', 'Publication Date': 'Publicado hace 1 día', 'Location': 'Chicó Navarra - Usaquén - Bogotá D.C.', 'Pub Number': '1381136797', 'Created At': '2024-01-14 14:57:14'}\"},\n",
       " {'carro': 'Renault Fluence 1.6 Confort 2013',\n",
       "  'price': 30000000,\n",
       "  'link': 'https://carro.mercadolibre.com.co/MCO-1381047517-renault-fluence-16-confort-2013-_JM#position=20&search_layout=grid&type=item&tracking_id=a954cc2a-099c-416b-821a-cd14c0f7e95b',\n",
       "  'carro_info': \"{'Year': '2013', 'Kilometrage': '122000 ', 'Publication Date': 'Publicado hace 1 día', 'Location': 'Cedritos - Usaquén - Bogotá D.C.', 'Pub Number': '1381047517', 'Created At': '2024-01-14 14:57:14'}\"},\n",
       " {'carro': 'Volkswagen Bora 2.5 Prestige 2008',\n",
       "  'price': 33000000,\n",
       "  'link': 'https://carro.mercadolibre.com.co/MCO-1381110881-volkswagen-bora-25-prestige-2008-_JM#position=21&search_layout=grid&type=item&tracking_id=a954cc2a-099c-416b-821a-cd14c0f7e95b',\n",
       "  'carro_info': \"{'Year': '2008', 'Kilometrage': '118200 ', 'Publication Date': 'Publicado hace 1 día', 'Location': 'Bella Suiza - Usaquén - Bogotá D.C.', 'Pub Number': '1381110881', 'Created At': '2024-01-14 14:57:15'}\"},\n",
       " {'carro': 'Mercedes-benz Clase A 1.4 A200 Amg Line 2022',\n",
       "  'price': 155000000,\n",
       "  'link': 'https://carro.mercadolibre.com.co/MCO-1381136471-mercedes-benz-clase-a-14-a200-amg-line-2022-_JM#position=22&search_layout=grid&type=item&tracking_id=a954cc2a-099c-416b-821a-cd14c0f7e95b',\n",
       "  'carro_info': \"{'Year': '2022', 'Kilometrage': '9300 ', 'Publication Date': 'Publicado hace 1 día', 'Location': 'Cedritos - Usaquén - Bogotá D.C.', 'Pub Number': '1381136471', 'Created At': '2024-01-14 14:57:15'}\"},\n",
       " {'carro': 'Ford Escape 2.0 Se 4x2 2019',\n",
       "  'price': 85000000,\n",
       "  'link': 'https://carro.mercadolibre.com.co/MCO-1381059241-ford-escape-20-se-4x2-2019-_JM#position=23&search_layout=grid&type=item&tracking_id=a954cc2a-099c-416b-821a-cd14c0f7e95b',\n",
       "  'carro_info': \"{'Year': '2019', 'Kilometrage': '39400 ', 'Publication Date': 'Publicado hace 1 día', 'Location': 'Cedritos - Usaquén - Bogotá D.C.', 'Pub Number': '1381059241', 'Created At': '2024-01-14 14:57:15'}\"},\n",
       " {'carro': 'Audi Q5 2.0 2015',\n",
       "  'price': 90000000,\n",
       "  'link': 'https://carro.mercadolibre.com.co/MCO-1381059077-audi-q5-20-2015-_JM#position=24&search_layout=grid&type=item&tracking_id=a954cc2a-099c-416b-821a-cd14c0f7e95b',\n",
       "  'carro_info': \"{'Year': '2015', 'Kilometrage': '102000 ', 'Publication Date': 'Publicado hace 1 día', 'Location': 'Santa Paula - Usaquén - Bogotá D.C.', 'Pub Number': '1381059077', 'Created At': '2024-01-14 14:57:15'}\"},\n",
       " {'carro': 'Toyota 4runner 4.0 Sr5',\n",
       "  'price': 315000000,\n",
       "  'link': 'https://carro.mercadolibre.com.co/MCO-2149881448-toyota-4runner-40-sr5-_JM#position=25&search_layout=grid&type=item&tracking_id=a954cc2a-099c-416b-821a-cd14c0f7e95b',\n",
       "  'carro_info': \"{'Year': '2022', 'Kilometrage': '25720 ', 'Publication Date': 'Publicado hace 1 día', 'Location': 'Belmira - Usaquén - Bogotá D.C.', 'Pub Number': '2149881448', 'Created At': '2024-01-14 14:57:15'}\"},\n",
       " {'carro': 'Renault Captur Intens',\n",
       "  'price': 112000000,\n",
       "  'link': 'https://carro.mercadolibre.com.co/MCO-2149629108-renault-captur-intens-2022-_JM#position=26&search_layout=grid&type=item&tracking_id=a954cc2a-099c-416b-821a-cd14c0f7e95b',\n",
       "  'carro_info': \"{'Year': '2022', 'Kilometrage': '26350 ', 'Publication Date': 'Publicado hace 1 día', 'Location': 'Funza - Cundinamarca', 'Pub Number': '2149629108', 'Created At': '2024-01-14 14:57:14'}\"},\n",
       " {'carro': 'Chevrolet Sonic Lt',\n",
       "  'price': 42000000,\n",
       "  'link': 'https://carro.mercadolibre.com.co/MCO-2149693060-chevrolet-sonic-lt-2016-_JM#position=27&search_layout=grid&type=item&tracking_id=a954cc2a-099c-416b-821a-cd14c0f7e95b',\n",
       "  'carro_info': \"{'Year': '2016', 'Kilometrage': '36000 ', 'Publication Date': 'Publicado hace 1 día', 'Location': 'Rafael Nuñez - Teusaquillo - Bogotá D.C.', 'Pub Number': '2149693060', 'Created At': '2024-01-14 14:57:14'}\"},\n",
       " {'carro': 'Jeep Grand Cherokee 3.6 Limited',\n",
       "  'price': 178000000,\n",
       "  'link': 'https://carro.mercadolibre.com.co/MCO-2149679508-jeep-grand-cherokee-36-limited-_JM#position=28&search_layout=grid&type=item&tracking_id=a954cc2a-099c-416b-821a-cd14c0f7e95b',\n",
       "  'carro_info': \"{'Year': '2020', 'Kilometrage': '24000 ', 'Publication Date': 'Publicado hace 1 día', 'Location': 'Cedritos - Usaquén - Bogotá D.C.', 'Pub Number': '2149679508', 'Created At': '2024-01-14 14:57:15'}\"},\n",
       " {'carro': 'Nissan Note Sense',\n",
       "  'price': 38000000,\n",
       "  'link': 'https://carro.mercadolibre.com.co/MCO-2149743290-nissan-note-sense-2015-_JM#position=29&search_layout=grid&type=item&tracking_id=a954cc2a-099c-416b-821a-cd14c0f7e95b',\n",
       "  'carro_info': \"{'Year': '2015', 'Kilometrage': '92000 ', 'Publication Date': 'Publicado hace 1 día', 'Location': 'Capellanía - Fontibón - Bogotá D.C.', 'Pub Number': '2149743290', 'Created At': '2024-01-14 14:57:15'}\"},\n",
       " {'carro': 'Peugeot 308 2.0 Premium',\n",
       "  'price': 26000000,\n",
       "  'link': 'https://carro.mercadolibre.com.co/MCO-2149614798-peugeot-308-_JM#position=30&search_layout=grid&type=item&tracking_id=a954cc2a-099c-416b-821a-cd14c0f7e95b',\n",
       "  'carro_info': \"{'Year': '2009', 'Kilometrage': '127500 ', 'Publication Date': 'Publicado hace 1 día', 'Location': 'Rincón de Suba - Suba - Bogotá D.C.', 'Pub Number': '2149614798', 'Created At': '2024-01-14 14:57:15'}\"},\n",
       " {'carro': 'Honda Cr-v 2.4 Lx At',\n",
       "  'price': 59900000,\n",
       "  'link': 'https://carro.mercadolibre.com.co/MCO-2149879494-honda-crv-24-lx-at-2011-_JM#position=31&search_layout=grid&type=item&tracking_id=a954cc2a-099c-416b-821a-cd14c0f7e95b',\n",
       "  'carro_info': \"{'Year': '2011', 'Kilometrage': '89729 ', 'Publication Date': 'Publicado hace 1 día', 'Location': 'Benedictinos - Envigado - Antioquia', 'Pub Number': '2149879494', 'Created At': '2024-01-14 14:57:14'}\"},\n",
       " {'carro': 'Chevrolet Sonic 1.6 Lt 4 P Automática',\n",
       "  'price': 45000000,\n",
       "  'link': 'https://carro.mercadolibre.com.co/MCO-2149627440-chevrolet-sonic-_JM#position=32&search_layout=grid&type=item&tracking_id=a954cc2a-099c-416b-821a-cd14c0f7e95b',\n",
       "  'carro_info': \"{'Year': '2017', 'Kilometrage': '77000 ', 'Publication Date': 'Publicado hace 1 día', 'Location': 'Britalia - Suba - Bogotá D.C.', 'Pub Number': '2149627440', 'Created At': '2024-01-14 14:57:14'}\"},\n",
       " {'carro': 'Toyota Hilux 2.8l',\n",
       "  'price': 198000000,\n",
       "  'link': 'https://carro.mercadolibre.com.co/MCO-2149627156-toyota-hilux-28-_JM#position=33&search_layout=grid&type=item&tracking_id=a954cc2a-099c-416b-821a-cd14c0f7e95b',\n",
       "  'carro_info': \"{'Year': '2020', 'Kilometrage': '50040 ', 'Publication Date': 'Publicado hace 1 día', 'Location': 'El Poblado - Medellín - Antioquia', 'Pub Number': '2149627156', 'Created At': '2024-01-14 14:57:14'}\"},\n",
       " {'carro': 'Ford Focus Titanium',\n",
       "  'price': 38000000,\n",
       "  'link': 'https://carro.mercadolibre.com.co/MCO-2149691262-ford-focus-titanium-2013-_JM#position=34&search_layout=grid&type=item&tracking_id=a954cc2a-099c-416b-821a-cd14c0f7e95b',\n",
       "  'carro_info': \"{'Year': '2013', 'Kilometrage': '77946 ', 'Publication Date': 'Publicado hace 1 día', 'Location': 'Alsacia - Kennedy - Bogotá D.C.', 'Pub Number': '2149691262', 'Created At': '2024-01-14 14:57:15'}\"},\n",
       " {'carro': 'Nissan X-trail 2.5 T32 2018',\n",
       "  'price': 105000000,\n",
       "  'link': 'https://carro.mercadolibre.com.co/MCO-2149678576-nissan-x-trail-25-t32-2018-_JM#position=35&search_layout=grid&type=item&tracking_id=a954cc2a-099c-416b-821a-cd14c0f7e95b',\n",
       "  'carro_info': \"{'Year': '2018', 'Kilometrage': '29000 ', 'Publication Date': 'Publicado hace 1 día', 'Location': 'Chicó Navarra - Usaquén - Bogotá D.C.', 'Pub Number': '2149678576', 'Created At': '2024-01-14 14:57:15'}\"},\n",
       " {'carro': 'Toyota Rav4 2.0 4x2 2020',\n",
       "  'price': 140000000,\n",
       "  'link': 'https://carro.mercadolibre.com.co/MCO-2149626668-toyota-rav-4-20-4x2-2020-_JM#position=36&search_layout=grid&type=item&tracking_id=a954cc2a-099c-416b-821a-cd14c0f7e95b',\n",
       "  'carro_info': \"{'Year': '2020', 'Kilometrage': '74000 ', 'Publication Date': 'Publicado hace 1 día', 'Location': 'Cedritos - Usaquén - Bogotá D.C.', 'Pub Number': '2149626668', 'Created At': '2024-01-14 14:57:14'}\"},\n",
       " {'carro': 'Volkswagen T-cross 1.0 Trendline 2021',\n",
       "  'price': 90000000,\n",
       "  'link': 'https://carro.mercadolibre.com.co/MCO-2149601754-volkswagen-tcross-10-trendline-2021-_JM#position=37&search_layout=grid&type=item&tracking_id=a954cc2a-099c-416b-821a-cd14c0f7e95b',\n",
       "  'carro_info': \"{'Year': '2021', 'Kilometrage': '6654 ', 'Publication Date': 'Publicado hace 1 día', 'Location': 'El Chicó - Chapinero - Bogotá D.C.', 'Pub Number': '2149601754', 'Created At': '2024-01-14 14:57:15'}\"},\n",
       " {'carro': 'Volkswagen Gol 1.6 Highline 2018',\n",
       "  'price': 45000000,\n",
       "  'link': 'https://carro.mercadolibre.com.co/MCO-2149665076-volkswagen-gol-16-highline-2018-_JM#position=38&search_layout=grid&type=item&tracking_id=a954cc2a-099c-416b-821a-cd14c0f7e95b',\n",
       "  'carro_info': \"{'Year': '2018', 'Kilometrage': '46000 ', 'Publication Date': 'Publicado hace 1 día', 'Location': 'Belmira - Usaquén - Bogotá D.C.', 'Pub Number': '2149665076', 'Created At': '2024-01-14 14:57:15'}\"},\n",
       " {'carro': 'Chevrolet Tracker 1.8 Ltz',\n",
       "  'price': 78000000,\n",
       "  'link': 'https://carro.mercadolibre.com.co/MCO-2149626204-chevrolet-tracker-ltz-18-_JM#position=39&search_layout=grid&type=item&tracking_id=a954cc2a-099c-416b-821a-cd14c0f7e95b',\n",
       "  'carro_info': \"{'Year': '2020', 'Kilometrage': '27578 ', 'Publication Date': 'Publicado hace 1 día', 'Location': 'Alsacia - Kennedy - Bogotá D.C.', 'Pub Number': '2149626204', 'Created At': '2024-01-14 14:57:15'}\"},\n",
       " {'carro': 'Toyota Rav4 2.5',\n",
       "  'price': 184900000,\n",
       "  'link': 'https://carro.mercadolibre.com.co/MCO-2149716432-toyota-rav4-xle-hybrid-2500cc-4x4-_JM#position=40&search_layout=grid&type=item&tracking_id=a954cc2a-099c-416b-821a-cd14c0f7e95b',\n",
       "  'carro_info': \"{'Year': '2022', 'Kilometrage': '23000 ', 'Publication Date': 'Publicado hace 1 día', 'Location': 'Chía - Cundinamarca', 'Pub Number': '2149716432', 'Created At': '2024-01-14 14:57:15'}\"},\n",
       " {'carro': 'Renault Stepway Expression/zen',\n",
       "  'price': 47000000,\n",
       "  'link': 'https://carro.mercadolibre.com.co/MCO-2149741550-renault-stepway-expressionzen-2019-_JM#position=41&search_layout=grid&type=item&tracking_id=a954cc2a-099c-416b-821a-cd14c0f7e95b',\n",
       "  'carro_info': \"{'Year': '2019', 'Kilometrage': '46104 ', 'Publication Date': 'Publicado hace 1 día', 'Location': 'Ciudad Kennedy Central - Kennedy - Bogotá D.C.', 'Pub Number': '2149741550', 'Created At': '2024-01-14 14:57:15'}\"},\n",
       " {'carro': 'Jeep Grand Cherokee 3.6 Laredo',\n",
       "  'price': 98000000,\n",
       "  'link': 'https://carro.mercadolibre.com.co/MCO-2149664676-jeep-grand-cherokee-16-laredo-_JM#position=42&search_layout=grid&type=item&tracking_id=a954cc2a-099c-416b-821a-cd14c0f7e95b',\n",
       "  'carro_info': \"{'Year': '2014', 'Kilometrage': '72000 ', 'Publication Date': 'Publicado hace 1 día', 'Location': 'El Poblado - Medellín - Antioquia', 'Pub Number': '2149664676', 'Created At': '2024-01-14 14:57:15'}\"},\n",
       " {'carro': 'Ford Ecosport 2.0 Titanium At',\n",
       "  'price': 59300000,\n",
       "  'link': 'https://carro.mercadolibre.com.co/MCO-2149877546-ford-ecosport-20-titanium-_JM#position=43&search_layout=grid&type=item&tracking_id=a954cc2a-099c-416b-821a-cd14c0f7e95b',\n",
       "  'carro_info': \"{'Year': '2017', 'Kilometrage': '40600 ', 'Publication Date': 'Publicado hace 1 día', 'Location': 'El Contador - Usaquén - Bogotá D.C.', 'Pub Number': '2149877546', 'Created At': '2024-01-14 14:57:15'}\"},\n",
       " {'carro': 'Ford Edge 3.5 Limited Fl',\n",
       "  'price': 59900200,\n",
       "  'link': 'https://carro.mercadolibre.com.co/MCO-1381044243-ford-edge-limited-_JM#position=44&search_layout=grid&type=item&tracking_id=a954cc2a-099c-416b-821a-cd14c0f7e95b',\n",
       "  'carro_info': \"{'Year': '2013', 'Kilometrage': '79000 ', 'Publication Date': 'Publicado hace 1 día', 'Location': 'Cantalejo Sec. Alejandría - Suba - Bogotá D.C.', 'Pub Number': '1381044243', 'Created At': '2024-01-14 14:57:15'}\"},\n",
       " {'carro': 'Mercedes-benz Clase Cla 200 1.6 Urban',\n",
       "  'price': 97900000,\n",
       "  'link': 'https://carro.mercadolibre.com.co/MCO-2149600114-mercedes-benz-gla-200-16-urban-2018-_JM#position=45&search_layout=grid&type=item&tracking_id=a954cc2a-099c-416b-821a-cd14c0f7e95b',\n",
       "  'carro_info': \"{'Year': '2018', 'Kilometrage': '93000 ', 'Publication Date': 'Publicado hace 1 día', 'Location': 'Belén La Mota - Medellín - Antioquia', 'Pub Number': '2149600114', 'Created At': '2024-01-14 14:57:15'}\"},\n",
       " {'carro': 'Chevrolet Spark 1.2 Gt M300',\n",
       "  'price': 24900000,\n",
       "  'link': 'https://carro.mercadolibre.com.co/MCO-2149663906-chevrolet-spark-12-_JM#position=46&search_layout=grid&type=item&tracking_id=a954cc2a-099c-416b-821a-cd14c0f7e95b',\n",
       "  'carro_info': \"{'Year': '2012', 'Kilometrage': '168700 ', 'Publication Date': 'Publicado hace 1 día', 'Location': 'El Amparo - Kennedy - Bogotá D.C.', 'Pub Number': '2149663906', 'Created At': '2024-01-14 14:57:15'}\"},\n",
       " {'carro': 'Suzuki Xl7 1.5 Glx',\n",
       "  'price': 82000000,\n",
       "  'link': 'https://carro.mercadolibre.com.co/MCO-2149702340-suzuki-xl7-_JM#position=47&search_layout=grid&type=item&tracking_id=a954cc2a-099c-416b-821a-cd14c0f7e95b',\n",
       "  'carro_info': \"{'Year': '2021', 'Kilometrage': '16000 ', 'Publication Date': 'Publicado hace 1 día', 'Location': 'Salitre Nor - Occidental - Fontibón - Bogotá D.C.', 'Pub Number': '2149702340', 'Created At': '2024-01-14 14:57:15'}\"},\n",
       " {'carro': 'Audi A5 B8 Coupe',\n",
       "  'price': 84000000,\n",
       "  'link': 'https://carro.mercadolibre.com.co/MCO-2149611940-audi-a5-coupe-_JM#position=48&search_layout=grid&type=item&tracking_id=a954cc2a-099c-416b-821a-cd14c0f7e95b',\n",
       "  'carro_info': \"{'Year': '2014', 'Kilometrage': '63000 ', 'Publication Date': 'Publicado hace 1 día', 'Location': 'Nueva Marsella I, Ii  y III Sector - Kennedy - Bogotá D.C.', 'Pub Number': '2149611940', 'Created At': '2024-01-14 14:57:15'}\"}]"
      ]
     },
     "execution_count": 44,
     "metadata": {},
     "output_type": "execute_result"
    }
   ],
   "source": [
    "out"
   ]
  },
  {
   "cell_type": "code",
   "execution_count": 43,
   "metadata": {},
   "outputs": [
    {
     "data": {
      "text/plain": [
       "'[{\"carro\": \"Renault Duster 1.6 Dynamique Gt 4x2\", \"price\": 47500000, \"link\": \"https://carro.mercadolibre.com.co/MCO-2151389978-renault-duster-16-dynamique-gt-_JM#position=1&search_layout=grid&type=item&tracking_id=a954cc2a-099c-416b-821a-cd14c0f7e95b\", \"carro_info\": \"{\\'Year\\': \\'2015\\', \\'Kilometrage\\': \\'75300 \\', \\'Publication Date\\': \\'Publicado hace 1 d\\\\u00eda\\', \\'Location\\': \\'La Colina Campestre - Suba - Bogot\\\\u00e1 D.C.\\', \\'Pub Number\\': \\'2151389978\\', \\'Created At\\': \\'2024-01-14 14:57:14\\'}\"}, {\"carro\": \"Bmw X1 2.0 Sdrive 18d\", \"price\": 96000000, \"link\": \"https://carro.mercadolibre.com.co/MCO-2151412446-bmw-x1-20-sdrive-18d-_JM#position=2&search_layout=grid&type=item&tracking_id=a954cc2a-099c-416b-821a-cd14c0f7e95b\", \"carro_info\": \"{\\'Year\\': \\'2017\\', \\'Kilometrage\\': \\'88523 \\', \\'Publication Date\\': \\'Publicado hace 1 d\\\\u00eda\\', \\'Location\\': \\'Santa B\\\\u00e1rbara II - Suba - Bogot\\\\u00e1 D.C.\\', \\'Pub Number\\': \\'2151412446\\', \\'Created At\\': \\'2024-01-14 14:57:15\\'}\"}, {\"carro\": \"Volkswagen Gol 1.6 Ls\", \"price\": 31000000, \"link\": \"https://carro.mercadolibre.com.co/MCO-1381296575-volkswagen-gol-16-ls-_JM#position=3&search_layout=grid&type=item&tracking_id=a954cc2a-099c-416b-821a-cd14c0f7e95b\", \"carro_info\": \"{\\'Year\\': \\'2021\\', \\'Kilometrage\\': \\'93574 \\', \\'Publication Date\\': \\'Publicado hace 1 d\\\\u00eda\\', \\'Location\\': \\'Alcal\\\\u00e1 - Suba - Bogot\\\\u00e1 D.C.\\', \\'Pub Number\\': \\'1381296575\\', \\'Created At\\': \\'2024-01-14 14:57:15\\'}\"}, {\"carro\": \"Volkswagen Jetta 2.5 Trendline\", \"price\": 50000000, \"link\": \"https://carro.mercadolibre.com.co/MCO-1381212941-volkswagen-nuevo-jetta-25-trendline-_JM#position=4&search_layout=grid&type=item&tracking_id=a954cc2a-099c-416b-821a-cd14c0f7e95b\", \"carro_info\": \"{\\'Year\\': \\'2013\\', \\'Kilometrage\\': \\'47600 \\', \\'Publication Date\\': \\'Publicado hace 1 d\\\\u00eda\\', \\'Location\\': \\'Bosque de Los Lagartos - Suba - Bogot\\\\u00e1 D.C.\\', \\'Pub Number\\': \\'1381212941\\', \\'Created At\\': \\'2024-01-14 14:57:14\\'}\"}, {\"carro\": \"Ford Explorer 2.3 Xlt Ecoobost\", \"price\": 171000000, \"link\": \"https://carro.mercadolibre.com.co/MCO-1381237755-ford-explorer-23-xlt-ecoobost-_JM#position=5&search_layout=grid&type=item&tracking_id=a954cc2a-099c-416b-821a-cd14c0f7e95b\", \"carro_info\": \"{\\'Year\\': \\'2021\\', \\'Kilometrage\\': \\'33000 \\', \\'Publication Date\\': \\'Publicado hace 1 d\\\\u00eda\\', \\'Location\\': \\'Niza - Suba - Bogot\\\\u00e1 D.C.\\', \\'Pub Number\\': \\'1381237755\\', \\'Created At\\': \\'2024-01-14 14:57:14\\'}\"}, {\"carro\": \"Mercedes-benz Clase Gla 200 1.6\", \"price\": 128900000, \"link\": \"https://carro.mercadolibre.com.co/MCO-1381220785-mercedes-benz-clase-gla-200-16-_JM#position=6&search_layout=grid&type=item&tracking_id=a954cc2a-099c-416b-821a-cd14c0f7e95b\", \"carro_info\": \"{\\'Year\\': \\'2020\\', \\'Kilometrage\\': \\'15850 \\', \\'Publication Date\\': \\'Publicado hace 1 d\\\\u00eda\\', \\'Location\\': \\'La Colina Campestre - Suba - Bogot\\\\u00e1 D.C.\\', \\'Pub Number\\': \\'1381220785\\', \\'Created At\\': \\'2024-01-14 14:57:15\\'}\"}, {\"carro\": \"Volkswagen Gol 1.6 Trendline\", \"price\": 42700000, \"link\": \"https://carro.mercadolibre.com.co/MCO-1381220111-volkswagen-gol-16-trendline-_JM#position=7&search_layout=grid&type=item&tracking_id=a954cc2a-099c-416b-821a-cd14c0f7e95b\", \"carro_info\": \"{\\'Year\\': \\'2020\\', \\'Kilometrage\\': \\'19350 \\', \\'Publication Date\\': \\'Publicado hace 1 d\\\\u00eda\\', \\'Location\\': \\'La Calleja - Usaqu\\\\u00e9n - Bogot\\\\u00e1 D.C.\\', \\'Pub Number\\': \\'1381220111\\', \\'Created At\\': \\'2024-01-14 14:57:15\\'}\"}, {\"carro\": \"Renault Sandero 1.6 Life 2020\", \"price\": 45000000, \"link\": \"https://carro.mercadolibre.com.co/MCO-1381125467-renault-sandero-16-life-2020-_JM#position=8&search_layout=grid&type=item&tracking_id=a954cc2a-099c-416b-821a-cd14c0f7e95b\", \"carro_info\": \"{\\'Year\\': \\'2020\\', \\'Kilometrage\\': \\'36980 \\', \\'Publication Date\\': \\'Publicado hace 1 d\\\\u00eda\\', \\'Location\\': \\'Mazur\\\\u00e9n - Suba - Bogot\\\\u00e1 D.C.\\', \\'Pub Number\\': \\'1381125467\\', \\'Created At\\': \\'2024-01-14 14:57:14\\'}\"}, {\"carro\": \"Renault Clio F.iv Expression\", \"price\": 27000000, \"link\": \"https://carro.mercadolibre.com.co/MCO-2149885558-renault-clio-fiv-expression-at-16-_JM#position=9&search_layout=grid&type=item&tracking_id=a954cc2a-099c-416b-821a-cd14c0f7e95b\", \"carro_info\": \"{\\'Year\\': \\'2011\\', \\'Kilometrage\\': \\'38772 \\', \\'Publication Date\\': \\'Publicado hace 1 d\\\\u00eda\\', \\'Location\\': \\'El Nogal - Chapinero - Bogot\\\\u00e1 D.C.\\', \\'Pub Number\\': \\'2149885558\\', \\'Created At\\': \\'2024-01-14 14:57:15\\'}\"}, {\"carro\": \"Mercedes-benz Clase A 1.4 A200 2020\", \"price\": 112000000, \"link\": \"https://carro.mercadolibre.com.co/MCO-1381138037-mercedes-benz-clase-a-14-a200-2020-_JM#position=10&search_layout=grid&type=item&tracking_id=a954cc2a-099c-416b-821a-cd14c0f7e95b\", \"carro_info\": \"{\\'Year\\': \\'2020\\', \\'Kilometrage\\': \\'9500 \\', \\'Publication Date\\': \\'Publicado hace 1 d\\\\u00eda\\', \\'Location\\': \\'Puente Largo - Suba - Bogot\\\\u00e1 D.C.\\', \\'Pub Number\\': \\'1381138037\\', \\'Created At\\': \\'2024-01-14 14:57:14\\'}\"}, {\"carro\": \"Mazda 3 1.6\", \"price\": 24000000, \"link\": \"https://carro.mercadolibre.com.co/MCO-1381073433-mazda-3-z6nm7-mt-16-_JM#position=11&search_layout=grid&type=item&tracking_id=a954cc2a-099c-416b-821a-cd14c0f7e95b\", \"carro_info\": \"{\\'Year\\': \\'2008\\', \\'Kilometrage\\': \\'121000 \\', \\'Publication Date\\': \\'Publicado hace 1 d\\\\u00eda\\', \\'Location\\': \\'Alhambra - Suba - Bogot\\\\u00e1 D.C.\\', \\'Pub Number\\': \\'1381073433\\', \\'Created At\\': \\'2024-01-14 14:57:14\\'}\"}, {\"carro\": \"Mercedes-benz Clase C 1.5\", \"price\": 215000000, \"link\": \"https://carro.mercadolibre.com.co/MCO-1381124779-mercedes-benz-c-200-15-_JM#position=12&search_layout=grid&type=item&tracking_id=a954cc2a-099c-416b-821a-cd14c0f7e95b\", \"carro_info\": \"{\\'Year\\': \\'2023\\', \\'Kilometrage\\': \\'12685 \\', \\'Publication Date\\': \\'Publicado hace 1 d\\\\u00eda\\', \\'Location\\': \\'Pasadena - Suba - Bogot\\\\u00e1 D.C.\\', \\'Pub Number\\': \\'1381124779\\', \\'Created At\\': \\'2024-01-14 14:57:14\\'}\"}, {\"carro\": \"Kia Rio 1.25\", \"price\": 54000000, \"link\": \"https://carro.mercadolibre.com.co/MCO-2149885048-kia-rio-re-125-mt-12-_JM#position=13&search_layout=grid&type=item&tracking_id=a954cc2a-099c-416b-821a-cd14c0f7e95b\", \"carro_info\": \"{\\'Year\\': \\'2018\\', \\'Kilometrage\\': \\'47000 \\', \\'Publication Date\\': \\'Publicado hace 1 d\\\\u00eda\\', \\'Location\\': \\'El Muelle - Engativa - Bogot\\\\u00e1 D.C.\\', \\'Pub Number\\': \\'2149885048\\', \\'Created At\\': \\'2024-01-14 14:57:14\\'}\"}, {\"carro\": \"Chevrolet Spark 1.0 Life\", \"price\": 30800000, \"link\": \"https://carro.mercadolibre.com.co/MCO-1381111741-chevrolet-spark-life-mt-10-_JM#position=14&search_layout=grid&type=item&tracking_id=a954cc2a-099c-416b-821a-cd14c0f7e95b\", \"carro_info\": \"{\\'Year\\': \\'2018\\', \\'Kilometrage\\': \\'38800 \\', \\'Publication Date\\': \\'Publicado hace 1 d\\\\u00eda\\', \\'Location\\': \\'Bella Suiza - Usaqu\\\\u00e9n - Bogot\\\\u00e1 D.C.\\', \\'Pub Number\\': \\'1381111741\\', \\'Created At\\': \\'2024-01-14 14:57:14\\'}\"}, {\"carro\": \"Nissan Tiida Sd 1.8\", \"price\": 27500000, \"link\": \"https://carro.mercadolibre.com.co/MCO-1381073113-nissan-tiida-sd-miio-at-18-_JM#position=15&search_layout=grid&type=item&tracking_id=a954cc2a-099c-416b-821a-cd14c0f7e95b\", \"carro_info\": \"{\\'Year\\': \\'2012\\', \\'Kilometrage\\': \\'180000 \\', \\'Publication Date\\': \\'Publicado hace 1 d\\\\u00eda\\', \\'Location\\': \\'Fontib\\\\u00f3n Centro - Fontib\\\\u00f3n - Bogot\\\\u00e1 D.C.\\', \\'Pub Number\\': \\'1381073113\\', \\'Created At\\': \\'2024-01-14 14:57:14\\'}\"}, {\"carro\": \"Toyota Fortuner 2.4 4x2 2021\", \"price\": 198000000, \"link\": \"https://carro.mercadolibre.com.co/MCO-2149884680-toyota-fortuner-24-4x2-2021-_JM#position=16&search_layout=grid&type=item&tracking_id=a954cc2a-099c-416b-821a-cd14c0f7e95b\", \"carro_info\": \"{\\'Year\\': \\'2021\\', \\'Kilometrage\\': \\'18000 \\', \\'Publication Date\\': \\'Publicado hace 1 d\\\\u00eda\\', \\'Location\\': \\'Alameda 170 - Usaqu\\\\u00e9n - Bogot\\\\u00e1 D.C.\\', \\'Pub Number\\': \\'2149884680\\', \\'Created At\\': \\'2024-01-14 14:57:15\\'}\"}, {\"carro\": \"Volkswagen Jetta 2.5 Nf 20211\", \"price\": 38500000, \"link\": \"https://carro.mercadolibre.com.co/MCO-1381060047-volkswagen-jetta-25-nf-20211-_JM#position=17&search_layout=grid&type=item&tracking_id=a954cc2a-099c-416b-821a-cd14c0f7e95b\", \"carro_info\": \"{\\'Year\\': \\'2011\\', \\'Kilometrage\\': \\'118000 \\', \\'Publication Date\\': \\'Publicado hace 1 d\\\\u00eda\\', \\'Location\\': \\'Colina Campestre I y II Etapa - Suba - Bogot\\\\u00e1 D.C.\\', \\'Pub Number\\': \\'1381060047\\', \\'Created At\\': \\'2024-01-14 14:57:14\\'}\"}, {\"carro\": \"Renault Logan 1.6 Intens 2022\", \"price\": 62000000, \"link\": \"https://carro.mercadolibre.com.co/MCO-1381124087-renault-logan-16-intens-2022-_JM#position=18&search_layout=grid&type=item&tracking_id=a954cc2a-099c-416b-821a-cd14c0f7e95b\", \"carro_info\": \"{\\'Year\\': \\'2022\\', \\'Kilometrage\\': \\'21000 \\', \\'Publication Date\\': \\'Publicado hace 1 d\\\\u00eda\\', \\'Location\\': \\'Prado Pinz\\\\u00f3n - Suba - Bogot\\\\u00e1 D.C.\\', \\'Pub Number\\': \\'1381124087\\', \\'Created At\\': \\'2024-01-14 14:57:14\\'}\"}, {\"carro\": \"Mazda Cx-5 2.0 High Fwd 2015\", \"price\": 69000000, \"link\": \"https://carro.mercadolibre.com.co/MCO-1381136797-mazda-cx5-20-high-fwd-2015-_JM#position=19&search_layout=grid&type=item&tracking_id=a954cc2a-099c-416b-821a-cd14c0f7e95b\", \"carro_info\": \"{\\'Year\\': \\'2015\\', \\'Kilometrage\\': \\'94000 \\', \\'Publication Date\\': \\'Publicado hace 1 d\\\\u00eda\\', \\'Location\\': \\'Chic\\\\u00f3 Navarra - Usaqu\\\\u00e9n - Bogot\\\\u00e1 D.C.\\', \\'Pub Number\\': \\'1381136797\\', \\'Created At\\': \\'2024-01-14 14:57:14\\'}\"}, {\"carro\": \"Renault Fluence 1.6 Confort 2013\", \"price\": 30000000, \"link\": \"https://carro.mercadolibre.com.co/MCO-1381047517-renault-fluence-16-confort-2013-_JM#position=20&search_layout=grid&type=item&tracking_id=a954cc2a-099c-416b-821a-cd14c0f7e95b\", \"carro_info\": \"{\\'Year\\': \\'2013\\', \\'Kilometrage\\': \\'122000 \\', \\'Publication Date\\': \\'Publicado hace 1 d\\\\u00eda\\', \\'Location\\': \\'Cedritos - Usaqu\\\\u00e9n - Bogot\\\\u00e1 D.C.\\', \\'Pub Number\\': \\'1381047517\\', \\'Created At\\': \\'2024-01-14 14:57:14\\'}\"}, {\"carro\": \"Volkswagen Bora 2.5 Prestige 2008\", \"price\": 33000000, \"link\": \"https://carro.mercadolibre.com.co/MCO-1381110881-volkswagen-bora-25-prestige-2008-_JM#position=21&search_layout=grid&type=item&tracking_id=a954cc2a-099c-416b-821a-cd14c0f7e95b\", \"carro_info\": \"{\\'Year\\': \\'2008\\', \\'Kilometrage\\': \\'118200 \\', \\'Publication Date\\': \\'Publicado hace 1 d\\\\u00eda\\', \\'Location\\': \\'Bella Suiza - Usaqu\\\\u00e9n - Bogot\\\\u00e1 D.C.\\', \\'Pub Number\\': \\'1381110881\\', \\'Created At\\': \\'2024-01-14 14:57:15\\'}\"}, {\"carro\": \"Mercedes-benz Clase A 1.4 A200 Amg Line 2022\", \"price\": 155000000, \"link\": \"https://carro.mercadolibre.com.co/MCO-1381136471-mercedes-benz-clase-a-14-a200-amg-line-2022-_JM#position=22&search_layout=grid&type=item&tracking_id=a954cc2a-099c-416b-821a-cd14c0f7e95b\", \"carro_info\": \"{\\'Year\\': \\'2022\\', \\'Kilometrage\\': \\'9300 \\', \\'Publication Date\\': \\'Publicado hace 1 d\\\\u00eda\\', \\'Location\\': \\'Cedritos - Usaqu\\\\u00e9n - Bogot\\\\u00e1 D.C.\\', \\'Pub Number\\': \\'1381136471\\', \\'Created At\\': \\'2024-01-14 14:57:15\\'}\"}, {\"carro\": \"Ford Escape 2.0 Se 4x2 2019\", \"price\": 85000000, \"link\": \"https://carro.mercadolibre.com.co/MCO-1381059241-ford-escape-20-se-4x2-2019-_JM#position=23&search_layout=grid&type=item&tracking_id=a954cc2a-099c-416b-821a-cd14c0f7e95b\", \"carro_info\": \"{\\'Year\\': \\'2019\\', \\'Kilometrage\\': \\'39400 \\', \\'Publication Date\\': \\'Publicado hace 1 d\\\\u00eda\\', \\'Location\\': \\'Cedritos - Usaqu\\\\u00e9n - Bogot\\\\u00e1 D.C.\\', \\'Pub Number\\': \\'1381059241\\', \\'Created At\\': \\'2024-01-14 14:57:15\\'}\"}, {\"carro\": \"Audi Q5 2.0 2015\", \"price\": 90000000, \"link\": \"https://carro.mercadolibre.com.co/MCO-1381059077-audi-q5-20-2015-_JM#position=24&search_layout=grid&type=item&tracking_id=a954cc2a-099c-416b-821a-cd14c0f7e95b\", \"carro_info\": \"{\\'Year\\': \\'2015\\', \\'Kilometrage\\': \\'102000 \\', \\'Publication Date\\': \\'Publicado hace 1 d\\\\u00eda\\', \\'Location\\': \\'Santa Paula - Usaqu\\\\u00e9n - Bogot\\\\u00e1 D.C.\\', \\'Pub Number\\': \\'1381059077\\', \\'Created At\\': \\'2024-01-14 14:57:15\\'}\"}, {\"carro\": \"Toyota 4runner 4.0 Sr5\", \"price\": 315000000, \"link\": \"https://carro.mercadolibre.com.co/MCO-2149881448-toyota-4runner-40-sr5-_JM#position=25&search_layout=grid&type=item&tracking_id=a954cc2a-099c-416b-821a-cd14c0f7e95b\", \"carro_info\": \"{\\'Year\\': \\'2022\\', \\'Kilometrage\\': \\'25720 \\', \\'Publication Date\\': \\'Publicado hace 1 d\\\\u00eda\\', \\'Location\\': \\'Belmira - Usaqu\\\\u00e9n - Bogot\\\\u00e1 D.C.\\', \\'Pub Number\\': \\'2149881448\\', \\'Created At\\': \\'2024-01-14 14:57:15\\'}\"}, {\"carro\": \"Renault Captur Intens\", \"price\": 112000000, \"link\": \"https://carro.mercadolibre.com.co/MCO-2149629108-renault-captur-intens-2022-_JM#position=26&search_layout=grid&type=item&tracking_id=a954cc2a-099c-416b-821a-cd14c0f7e95b\", \"carro_info\": \"{\\'Year\\': \\'2022\\', \\'Kilometrage\\': \\'26350 \\', \\'Publication Date\\': \\'Publicado hace 1 d\\\\u00eda\\', \\'Location\\': \\'Funza - Cundinamarca\\', \\'Pub Number\\': \\'2149629108\\', \\'Created At\\': \\'2024-01-14 14:57:14\\'}\"}, {\"carro\": \"Chevrolet Sonic Lt\", \"price\": 42000000, \"link\": \"https://carro.mercadolibre.com.co/MCO-2149693060-chevrolet-sonic-lt-2016-_JM#position=27&search_layout=grid&type=item&tracking_id=a954cc2a-099c-416b-821a-cd14c0f7e95b\", \"carro_info\": \"{\\'Year\\': \\'2016\\', \\'Kilometrage\\': \\'36000 \\', \\'Publication Date\\': \\'Publicado hace 1 d\\\\u00eda\\', \\'Location\\': \\'Rafael Nu\\\\u00f1ez - Teusaquillo - Bogot\\\\u00e1 D.C.\\', \\'Pub Number\\': \\'2149693060\\', \\'Created At\\': \\'2024-01-14 14:57:14\\'}\"}, {\"carro\": \"Jeep Grand Cherokee 3.6 Limited\", \"price\": 178000000, \"link\": \"https://carro.mercadolibre.com.co/MCO-2149679508-jeep-grand-cherokee-36-limited-_JM#position=28&search_layout=grid&type=item&tracking_id=a954cc2a-099c-416b-821a-cd14c0f7e95b\", \"carro_info\": \"{\\'Year\\': \\'2020\\', \\'Kilometrage\\': \\'24000 \\', \\'Publication Date\\': \\'Publicado hace 1 d\\\\u00eda\\', \\'Location\\': \\'Cedritos - Usaqu\\\\u00e9n - Bogot\\\\u00e1 D.C.\\', \\'Pub Number\\': \\'2149679508\\', \\'Created At\\': \\'2024-01-14 14:57:15\\'}\"}, {\"carro\": \"Nissan Note Sense\", \"price\": 38000000, \"link\": \"https://carro.mercadolibre.com.co/MCO-2149743290-nissan-note-sense-2015-_JM#position=29&search_layout=grid&type=item&tracking_id=a954cc2a-099c-416b-821a-cd14c0f7e95b\", \"carro_info\": \"{\\'Year\\': \\'2015\\', \\'Kilometrage\\': \\'92000 \\', \\'Publication Date\\': \\'Publicado hace 1 d\\\\u00eda\\', \\'Location\\': \\'Capellan\\\\u00eda - Fontib\\\\u00f3n - Bogot\\\\u00e1 D.C.\\', \\'Pub Number\\': \\'2149743290\\', \\'Created At\\': \\'2024-01-14 14:57:15\\'}\"}, {\"carro\": \"Peugeot 308 2.0 Premium\", \"price\": 26000000, \"link\": \"https://carro.mercadolibre.com.co/MCO-2149614798-peugeot-308-_JM#position=30&search_layout=grid&type=item&tracking_id=a954cc2a-099c-416b-821a-cd14c0f7e95b\", \"carro_info\": \"{\\'Year\\': \\'2009\\', \\'Kilometrage\\': \\'127500 \\', \\'Publication Date\\': \\'Publicado hace 1 d\\\\u00eda\\', \\'Location\\': \\'Rinc\\\\u00f3n de Suba - Suba - Bogot\\\\u00e1 D.C.\\', \\'Pub Number\\': \\'2149614798\\', \\'Created At\\': \\'2024-01-14 14:57:15\\'}\"}, {\"carro\": \"Honda Cr-v 2.4 Lx At\", \"price\": 59900000, \"link\": \"https://carro.mercadolibre.com.co/MCO-2149879494-honda-crv-24-lx-at-2011-_JM#position=31&search_layout=grid&type=item&tracking_id=a954cc2a-099c-416b-821a-cd14c0f7e95b\", \"carro_info\": \"{\\'Year\\': \\'2011\\', \\'Kilometrage\\': \\'89729 \\', \\'Publication Date\\': \\'Publicado hace 1 d\\\\u00eda\\', \\'Location\\': \\'Benedictinos - Envigado - Antioquia\\', \\'Pub Number\\': \\'2149879494\\', \\'Created At\\': \\'2024-01-14 14:57:14\\'}\"}, {\"carro\": \"Chevrolet Sonic 1.6 Lt 4 P Autom\\\\u00e1tica\", \"price\": 45000000, \"link\": \"https://carro.mercadolibre.com.co/MCO-2149627440-chevrolet-sonic-_JM#position=32&search_layout=grid&type=item&tracking_id=a954cc2a-099c-416b-821a-cd14c0f7e95b\", \"carro_info\": \"{\\'Year\\': \\'2017\\', \\'Kilometrage\\': \\'77000 \\', \\'Publication Date\\': \\'Publicado hace 1 d\\\\u00eda\\', \\'Location\\': \\'Britalia - Suba - Bogot\\\\u00e1 D.C.\\', \\'Pub Number\\': \\'2149627440\\', \\'Created At\\': \\'2024-01-14 14:57:14\\'}\"}, {\"carro\": \"Toyota Hilux 2.8l\", \"price\": 198000000, \"link\": \"https://carro.mercadolibre.com.co/MCO-2149627156-toyota-hilux-28-_JM#position=33&search_layout=grid&type=item&tracking_id=a954cc2a-099c-416b-821a-cd14c0f7e95b\", \"carro_info\": \"{\\'Year\\': \\'2020\\', \\'Kilometrage\\': \\'50040 \\', \\'Publication Date\\': \\'Publicado hace 1 d\\\\u00eda\\', \\'Location\\': \\'El Poblado - Medell\\\\u00edn - Antioquia\\', \\'Pub Number\\': \\'2149627156\\', \\'Created At\\': \\'2024-01-14 14:57:14\\'}\"}, {\"carro\": \"Ford Focus Titanium\", \"price\": 38000000, \"link\": \"https://carro.mercadolibre.com.co/MCO-2149691262-ford-focus-titanium-2013-_JM#position=34&search_layout=grid&type=item&tracking_id=a954cc2a-099c-416b-821a-cd14c0f7e95b\", \"carro_info\": \"{\\'Year\\': \\'2013\\', \\'Kilometrage\\': \\'77946 \\', \\'Publication Date\\': \\'Publicado hace 1 d\\\\u00eda\\', \\'Location\\': \\'Alsacia - Kennedy - Bogot\\\\u00e1 D.C.\\', \\'Pub Number\\': \\'2149691262\\', \\'Created At\\': \\'2024-01-14 14:57:15\\'}\"}, {\"carro\": \"Nissan X-trail 2.5 T32 2018\", \"price\": 105000000, \"link\": \"https://carro.mercadolibre.com.co/MCO-2149678576-nissan-x-trail-25-t32-2018-_JM#position=35&search_layout=grid&type=item&tracking_id=a954cc2a-099c-416b-821a-cd14c0f7e95b\", \"carro_info\": \"{\\'Year\\': \\'2018\\', \\'Kilometrage\\': \\'29000 \\', \\'Publication Date\\': \\'Publicado hace 1 d\\\\u00eda\\', \\'Location\\': \\'Chic\\\\u00f3 Navarra - Usaqu\\\\u00e9n - Bogot\\\\u00e1 D.C.\\', \\'Pub Number\\': \\'2149678576\\', \\'Created At\\': \\'2024-01-14 14:57:15\\'}\"}, {\"carro\": \"Toyota Rav4 2.0 4x2 2020\", \"price\": 140000000, \"link\": \"https://carro.mercadolibre.com.co/MCO-2149626668-toyota-rav-4-20-4x2-2020-_JM#position=36&search_layout=grid&type=item&tracking_id=a954cc2a-099c-416b-821a-cd14c0f7e95b\", \"carro_info\": \"{\\'Year\\': \\'2020\\', \\'Kilometrage\\': \\'74000 \\', \\'Publication Date\\': \\'Publicado hace 1 d\\\\u00eda\\', \\'Location\\': \\'Cedritos - Usaqu\\\\u00e9n - Bogot\\\\u00e1 D.C.\\', \\'Pub Number\\': \\'2149626668\\', \\'Created At\\': \\'2024-01-14 14:57:14\\'}\"}, {\"carro\": \"Volkswagen T-cross 1.0 Trendline 2021\", \"price\": 90000000, \"link\": \"https://carro.mercadolibre.com.co/MCO-2149601754-volkswagen-tcross-10-trendline-2021-_JM#position=37&search_layout=grid&type=item&tracking_id=a954cc2a-099c-416b-821a-cd14c0f7e95b\", \"carro_info\": \"{\\'Year\\': \\'2021\\', \\'Kilometrage\\': \\'6654 \\', \\'Publication Date\\': \\'Publicado hace 1 d\\\\u00eda\\', \\'Location\\': \\'El Chic\\\\u00f3 - Chapinero - Bogot\\\\u00e1 D.C.\\', \\'Pub Number\\': \\'2149601754\\', \\'Created At\\': \\'2024-01-14 14:57:15\\'}\"}, {\"carro\": \"Volkswagen Gol 1.6 Highline 2018\", \"price\": 45000000, \"link\": \"https://carro.mercadolibre.com.co/MCO-2149665076-volkswagen-gol-16-highline-2018-_JM#position=38&search_layout=grid&type=item&tracking_id=a954cc2a-099c-416b-821a-cd14c0f7e95b\", \"carro_info\": \"{\\'Year\\': \\'2018\\', \\'Kilometrage\\': \\'46000 \\', \\'Publication Date\\': \\'Publicado hace 1 d\\\\u00eda\\', \\'Location\\': \\'Belmira - Usaqu\\\\u00e9n - Bogot\\\\u00e1 D.C.\\', \\'Pub Number\\': \\'2149665076\\', \\'Created At\\': \\'2024-01-14 14:57:15\\'}\"}, {\"carro\": \"Chevrolet Tracker 1.8 Ltz\", \"price\": 78000000, \"link\": \"https://carro.mercadolibre.com.co/MCO-2149626204-chevrolet-tracker-ltz-18-_JM#position=39&search_layout=grid&type=item&tracking_id=a954cc2a-099c-416b-821a-cd14c0f7e95b\", \"carro_info\": \"{\\'Year\\': \\'2020\\', \\'Kilometrage\\': \\'27578 \\', \\'Publication Date\\': \\'Publicado hace 1 d\\\\u00eda\\', \\'Location\\': \\'Alsacia - Kennedy - Bogot\\\\u00e1 D.C.\\', \\'Pub Number\\': \\'2149626204\\', \\'Created At\\': \\'2024-01-14 14:57:15\\'}\"}, {\"carro\": \"Toyota Rav4 2.5\", \"price\": 184900000, \"link\": \"https://carro.mercadolibre.com.co/MCO-2149716432-toyota-rav4-xle-hybrid-2500cc-4x4-_JM#position=40&search_layout=grid&type=item&tracking_id=a954cc2a-099c-416b-821a-cd14c0f7e95b\", \"carro_info\": \"{\\'Year\\': \\'2022\\', \\'Kilometrage\\': \\'23000 \\', \\'Publication Date\\': \\'Publicado hace 1 d\\\\u00eda\\', \\'Location\\': \\'Ch\\\\u00eda - Cundinamarca\\', \\'Pub Number\\': \\'2149716432\\', \\'Created At\\': \\'2024-01-14 14:57:15\\'}\"}, {\"carro\": \"Renault Stepway Expression/zen\", \"price\": 47000000, \"link\": \"https://carro.mercadolibre.com.co/MCO-2149741550-renault-stepway-expressionzen-2019-_JM#position=41&search_layout=grid&type=item&tracking_id=a954cc2a-099c-416b-821a-cd14c0f7e95b\", \"carro_info\": \"{\\'Year\\': \\'2019\\', \\'Kilometrage\\': \\'46104 \\', \\'Publication Date\\': \\'Publicado hace 1 d\\\\u00eda\\', \\'Location\\': \\'Ciudad Kennedy Central - Kennedy - Bogot\\\\u00e1 D.C.\\', \\'Pub Number\\': \\'2149741550\\', \\'Created At\\': \\'2024-01-14 14:57:15\\'}\"}, {\"carro\": \"Jeep Grand Cherokee 3.6 Laredo\", \"price\": 98000000, \"link\": \"https://carro.mercadolibre.com.co/MCO-2149664676-jeep-grand-cherokee-16-laredo-_JM#position=42&search_layout=grid&type=item&tracking_id=a954cc2a-099c-416b-821a-cd14c0f7e95b\", \"carro_info\": \"{\\'Year\\': \\'2014\\', \\'Kilometrage\\': \\'72000 \\', \\'Publication Date\\': \\'Publicado hace 1 d\\\\u00eda\\', \\'Location\\': \\'El Poblado - Medell\\\\u00edn - Antioquia\\', \\'Pub Number\\': \\'2149664676\\', \\'Created At\\': \\'2024-01-14 14:57:15\\'}\"}, {\"carro\": \"Ford Ecosport 2.0 Titanium At\", \"price\": 59300000, \"link\": \"https://carro.mercadolibre.com.co/MCO-2149877546-ford-ecosport-20-titanium-_JM#position=43&search_layout=grid&type=item&tracking_id=a954cc2a-099c-416b-821a-cd14c0f7e95b\", \"carro_info\": \"{\\'Year\\': \\'2017\\', \\'Kilometrage\\': \\'40600 \\', \\'Publication Date\\': \\'Publicado hace 1 d\\\\u00eda\\', \\'Location\\': \\'El Contador - Usaqu\\\\u00e9n - Bogot\\\\u00e1 D.C.\\', \\'Pub Number\\': \\'2149877546\\', \\'Created At\\': \\'2024-01-14 14:57:15\\'}\"}, {\"carro\": \"Ford Edge 3.5 Limited Fl\", \"price\": 59900200, \"link\": \"https://carro.mercadolibre.com.co/MCO-1381044243-ford-edge-limited-_JM#position=44&search_layout=grid&type=item&tracking_id=a954cc2a-099c-416b-821a-cd14c0f7e95b\", \"carro_info\": \"{\\'Year\\': \\'2013\\', \\'Kilometrage\\': \\'79000 \\', \\'Publication Date\\': \\'Publicado hace 1 d\\\\u00eda\\', \\'Location\\': \\'Cantalejo Sec. Alejandr\\\\u00eda - Suba - Bogot\\\\u00e1 D.C.\\', \\'Pub Number\\': \\'1381044243\\', \\'Created At\\': \\'2024-01-14 14:57:15\\'}\"}, {\"carro\": \"Mercedes-benz Clase Cla 200 1.6 Urban\", \"price\": 97900000, \"link\": \"https://carro.mercadolibre.com.co/MCO-2149600114-mercedes-benz-gla-200-16-urban-2018-_JM#position=45&search_layout=grid&type=item&tracking_id=a954cc2a-099c-416b-821a-cd14c0f7e95b\", \"carro_info\": \"{\\'Year\\': \\'2018\\', \\'Kilometrage\\': \\'93000 \\', \\'Publication Date\\': \\'Publicado hace 1 d\\\\u00eda\\', \\'Location\\': \\'Bel\\\\u00e9n La Mota - Medell\\\\u00edn - Antioquia\\', \\'Pub Number\\': \\'2149600114\\', \\'Created At\\': \\'2024-01-14 14:57:15\\'}\"}, {\"carro\": \"Chevrolet Spark 1.2 Gt M300\", \"price\": 24900000, \"link\": \"https://carro.mercadolibre.com.co/MCO-2149663906-chevrolet-spark-12-_JM#position=46&search_layout=grid&type=item&tracking_id=a954cc2a-099c-416b-821a-cd14c0f7e95b\", \"carro_info\": \"{\\'Year\\': \\'2012\\', \\'Kilometrage\\': \\'168700 \\', \\'Publication Date\\': \\'Publicado hace 1 d\\\\u00eda\\', \\'Location\\': \\'El Amparo - Kennedy - Bogot\\\\u00e1 D.C.\\', \\'Pub Number\\': \\'2149663906\\', \\'Created At\\': \\'2024-01-14 14:57:15\\'}\"}, {\"carro\": \"Suzuki Xl7 1.5 Glx\", \"price\": 82000000, \"link\": \"https://carro.mercadolibre.com.co/MCO-2149702340-suzuki-xl7-_JM#position=47&search_layout=grid&type=item&tracking_id=a954cc2a-099c-416b-821a-cd14c0f7e95b\", \"carro_info\": \"{\\'Year\\': \\'2021\\', \\'Kilometrage\\': \\'16000 \\', \\'Publication Date\\': \\'Publicado hace 1 d\\\\u00eda\\', \\'Location\\': \\'Salitre Nor - Occidental - Fontib\\\\u00f3n - Bogot\\\\u00e1 D.C.\\', \\'Pub Number\\': \\'2149702340\\', \\'Created At\\': \\'2024-01-14 14:57:15\\'}\"}, {\"carro\": \"Audi A5 B8 Coupe\", \"price\": 84000000, \"link\": \"https://carro.mercadolibre.com.co/MCO-2149611940-audi-a5-coupe-_JM#position=48&search_layout=grid&type=item&tracking_id=a954cc2a-099c-416b-821a-cd14c0f7e95b\", \"carro_info\": \"{\\'Year\\': \\'2014\\', \\'Kilometrage\\': \\'63000 \\', \\'Publication Date\\': \\'Publicado hace 1 d\\\\u00eda\\', \\'Location\\': \\'Nueva Marsella I, Ii  y III Sector - Kennedy - Bogot\\\\u00e1 D.C.\\', \\'Pub Number\\': \\'2149611940\\', \\'Created At\\': \\'2024-01-14 14:57:15\\'}\"}]'"
      ]
     },
     "execution_count": 43,
     "metadata": {},
     "output_type": "execute_result"
    }
   ],
   "source": [
    "json.dumps(out)"
   ]
  },
  {
   "cell_type": "code",
   "execution_count": 36,
   "metadata": {},
   "outputs": [
    {
     "ename": "FileNotFoundError",
     "evalue": "[Errno 2] No such file or directory: 'final_data.csv'",
     "output_type": "error",
     "traceback": [
      "\u001b[0;31m---------------------------------------------------------------------------\u001b[0m",
      "\u001b[0;31mFileNotFoundError\u001b[0m                         Traceback (most recent call last)",
      "Cell \u001b[0;32mIn[36], line 29\u001b[0m\n\u001b[1;32m     19\u001b[0m     output_dict \u001b[38;5;241m=\u001b[39m {\n\u001b[1;32m     20\u001b[0m         \u001b[38;5;124m\"\u001b[39m\u001b[38;5;124mYear\u001b[39m\u001b[38;5;124m\"\u001b[39m: year,\n\u001b[1;32m     21\u001b[0m         \u001b[38;5;124m\"\u001b[39m\u001b[38;5;124mKilometrage\u001b[39m\u001b[38;5;124m\"\u001b[39m: kilometrage,\n\u001b[0;32m   (...)\u001b[0m\n\u001b[1;32m     25\u001b[0m         \u001b[38;5;124m\"\u001b[39m\u001b[38;5;124mCreated At\u001b[39m\u001b[38;5;124m\"\u001b[39m: datetime\u001b[38;5;241m.\u001b[39mdatetime\u001b[38;5;241m.\u001b[39mnow()\u001b[38;5;241m.\u001b[39mstrftime(\u001b[38;5;124m\"\u001b[39m\u001b[38;5;124m%\u001b[39m\u001b[38;5;124mY-\u001b[39m\u001b[38;5;124m%\u001b[39m\u001b[38;5;124mm-\u001b[39m\u001b[38;5;132;01m%d\u001b[39;00m\u001b[38;5;124m \u001b[39m\u001b[38;5;124m%\u001b[39m\u001b[38;5;124mH:\u001b[39m\u001b[38;5;124m%\u001b[39m\u001b[38;5;124mM:\u001b[39m\u001b[38;5;124m%\u001b[39m\u001b[38;5;124mS\u001b[39m\u001b[38;5;124m\"\u001b[39m)\n\u001b[1;32m     26\u001b[0m     }\n\u001b[1;32m     28\u001b[0m     \u001b[38;5;28;01mreturn\u001b[39;00m output_dict\n\u001b[0;32m---> 29\u001b[0m data \u001b[38;5;241m=\u001b[39m \u001b[43mpd\u001b[49m\u001b[38;5;241;43m.\u001b[39;49m\u001b[43mread_csv\u001b[49m\u001b[43m(\u001b[49m\u001b[38;5;124;43m'\u001b[39;49m\u001b[38;5;124;43mfinal_data.csv\u001b[39;49m\u001b[38;5;124;43m'\u001b[39;49m\u001b[43m)\u001b[49m\n",
      "File \u001b[0;32m~/anaconda3/envs/scrapper/lib/python3.10/site-packages/pandas/io/parsers/readers.py:948\u001b[0m, in \u001b[0;36mread_csv\u001b[0;34m(filepath_or_buffer, sep, delimiter, header, names, index_col, usecols, dtype, engine, converters, true_values, false_values, skipinitialspace, skiprows, skipfooter, nrows, na_values, keep_default_na, na_filter, verbose, skip_blank_lines, parse_dates, infer_datetime_format, keep_date_col, date_parser, date_format, dayfirst, cache_dates, iterator, chunksize, compression, thousands, decimal, lineterminator, quotechar, quoting, doublequote, escapechar, comment, encoding, encoding_errors, dialect, on_bad_lines, delim_whitespace, low_memory, memory_map, float_precision, storage_options, dtype_backend)\u001b[0m\n\u001b[1;32m    935\u001b[0m kwds_defaults \u001b[38;5;241m=\u001b[39m _refine_defaults_read(\n\u001b[1;32m    936\u001b[0m     dialect,\n\u001b[1;32m    937\u001b[0m     delimiter,\n\u001b[0;32m   (...)\u001b[0m\n\u001b[1;32m    944\u001b[0m     dtype_backend\u001b[38;5;241m=\u001b[39mdtype_backend,\n\u001b[1;32m    945\u001b[0m )\n\u001b[1;32m    946\u001b[0m kwds\u001b[38;5;241m.\u001b[39mupdate(kwds_defaults)\n\u001b[0;32m--> 948\u001b[0m \u001b[38;5;28;01mreturn\u001b[39;00m \u001b[43m_read\u001b[49m\u001b[43m(\u001b[49m\u001b[43mfilepath_or_buffer\u001b[49m\u001b[43m,\u001b[49m\u001b[43m \u001b[49m\u001b[43mkwds\u001b[49m\u001b[43m)\u001b[49m\n",
      "File \u001b[0;32m~/anaconda3/envs/scrapper/lib/python3.10/site-packages/pandas/io/parsers/readers.py:611\u001b[0m, in \u001b[0;36m_read\u001b[0;34m(filepath_or_buffer, kwds)\u001b[0m\n\u001b[1;32m    608\u001b[0m _validate_names(kwds\u001b[38;5;241m.\u001b[39mget(\u001b[38;5;124m\"\u001b[39m\u001b[38;5;124mnames\u001b[39m\u001b[38;5;124m\"\u001b[39m, \u001b[38;5;28;01mNone\u001b[39;00m))\n\u001b[1;32m    610\u001b[0m \u001b[38;5;66;03m# Create the parser.\u001b[39;00m\n\u001b[0;32m--> 611\u001b[0m parser \u001b[38;5;241m=\u001b[39m \u001b[43mTextFileReader\u001b[49m\u001b[43m(\u001b[49m\u001b[43mfilepath_or_buffer\u001b[49m\u001b[43m,\u001b[49m\u001b[43m \u001b[49m\u001b[38;5;241;43m*\u001b[39;49m\u001b[38;5;241;43m*\u001b[39;49m\u001b[43mkwds\u001b[49m\u001b[43m)\u001b[49m\n\u001b[1;32m    613\u001b[0m \u001b[38;5;28;01mif\u001b[39;00m chunksize \u001b[38;5;129;01mor\u001b[39;00m iterator:\n\u001b[1;32m    614\u001b[0m     \u001b[38;5;28;01mreturn\u001b[39;00m parser\n",
      "File \u001b[0;32m~/anaconda3/envs/scrapper/lib/python3.10/site-packages/pandas/io/parsers/readers.py:1448\u001b[0m, in \u001b[0;36mTextFileReader.__init__\u001b[0;34m(self, f, engine, **kwds)\u001b[0m\n\u001b[1;32m   1445\u001b[0m     \u001b[38;5;28mself\u001b[39m\u001b[38;5;241m.\u001b[39moptions[\u001b[38;5;124m\"\u001b[39m\u001b[38;5;124mhas_index_names\u001b[39m\u001b[38;5;124m\"\u001b[39m] \u001b[38;5;241m=\u001b[39m kwds[\u001b[38;5;124m\"\u001b[39m\u001b[38;5;124mhas_index_names\u001b[39m\u001b[38;5;124m\"\u001b[39m]\n\u001b[1;32m   1447\u001b[0m \u001b[38;5;28mself\u001b[39m\u001b[38;5;241m.\u001b[39mhandles: IOHandles \u001b[38;5;241m|\u001b[39m \u001b[38;5;28;01mNone\u001b[39;00m \u001b[38;5;241m=\u001b[39m \u001b[38;5;28;01mNone\u001b[39;00m\n\u001b[0;32m-> 1448\u001b[0m \u001b[38;5;28mself\u001b[39m\u001b[38;5;241m.\u001b[39m_engine \u001b[38;5;241m=\u001b[39m \u001b[38;5;28;43mself\u001b[39;49m\u001b[38;5;241;43m.\u001b[39;49m\u001b[43m_make_engine\u001b[49m\u001b[43m(\u001b[49m\u001b[43mf\u001b[49m\u001b[43m,\u001b[49m\u001b[43m \u001b[49m\u001b[38;5;28;43mself\u001b[39;49m\u001b[38;5;241;43m.\u001b[39;49m\u001b[43mengine\u001b[49m\u001b[43m)\u001b[49m\n",
      "File \u001b[0;32m~/anaconda3/envs/scrapper/lib/python3.10/site-packages/pandas/io/parsers/readers.py:1705\u001b[0m, in \u001b[0;36mTextFileReader._make_engine\u001b[0;34m(self, f, engine)\u001b[0m\n\u001b[1;32m   1703\u001b[0m     \u001b[38;5;28;01mif\u001b[39;00m \u001b[38;5;124m\"\u001b[39m\u001b[38;5;124mb\u001b[39m\u001b[38;5;124m\"\u001b[39m \u001b[38;5;129;01mnot\u001b[39;00m \u001b[38;5;129;01min\u001b[39;00m mode:\n\u001b[1;32m   1704\u001b[0m         mode \u001b[38;5;241m+\u001b[39m\u001b[38;5;241m=\u001b[39m \u001b[38;5;124m\"\u001b[39m\u001b[38;5;124mb\u001b[39m\u001b[38;5;124m\"\u001b[39m\n\u001b[0;32m-> 1705\u001b[0m \u001b[38;5;28mself\u001b[39m\u001b[38;5;241m.\u001b[39mhandles \u001b[38;5;241m=\u001b[39m \u001b[43mget_handle\u001b[49m\u001b[43m(\u001b[49m\n\u001b[1;32m   1706\u001b[0m \u001b[43m    \u001b[49m\u001b[43mf\u001b[49m\u001b[43m,\u001b[49m\n\u001b[1;32m   1707\u001b[0m \u001b[43m    \u001b[49m\u001b[43mmode\u001b[49m\u001b[43m,\u001b[49m\n\u001b[1;32m   1708\u001b[0m \u001b[43m    \u001b[49m\u001b[43mencoding\u001b[49m\u001b[38;5;241;43m=\u001b[39;49m\u001b[38;5;28;43mself\u001b[39;49m\u001b[38;5;241;43m.\u001b[39;49m\u001b[43moptions\u001b[49m\u001b[38;5;241;43m.\u001b[39;49m\u001b[43mget\u001b[49m\u001b[43m(\u001b[49m\u001b[38;5;124;43m\"\u001b[39;49m\u001b[38;5;124;43mencoding\u001b[39;49m\u001b[38;5;124;43m\"\u001b[39;49m\u001b[43m,\u001b[49m\u001b[43m \u001b[49m\u001b[38;5;28;43;01mNone\u001b[39;49;00m\u001b[43m)\u001b[49m\u001b[43m,\u001b[49m\n\u001b[1;32m   1709\u001b[0m \u001b[43m    \u001b[49m\u001b[43mcompression\u001b[49m\u001b[38;5;241;43m=\u001b[39;49m\u001b[38;5;28;43mself\u001b[39;49m\u001b[38;5;241;43m.\u001b[39;49m\u001b[43moptions\u001b[49m\u001b[38;5;241;43m.\u001b[39;49m\u001b[43mget\u001b[49m\u001b[43m(\u001b[49m\u001b[38;5;124;43m\"\u001b[39;49m\u001b[38;5;124;43mcompression\u001b[39;49m\u001b[38;5;124;43m\"\u001b[39;49m\u001b[43m,\u001b[49m\u001b[43m \u001b[49m\u001b[38;5;28;43;01mNone\u001b[39;49;00m\u001b[43m)\u001b[49m\u001b[43m,\u001b[49m\n\u001b[1;32m   1710\u001b[0m \u001b[43m    \u001b[49m\u001b[43mmemory_map\u001b[49m\u001b[38;5;241;43m=\u001b[39;49m\u001b[38;5;28;43mself\u001b[39;49m\u001b[38;5;241;43m.\u001b[39;49m\u001b[43moptions\u001b[49m\u001b[38;5;241;43m.\u001b[39;49m\u001b[43mget\u001b[49m\u001b[43m(\u001b[49m\u001b[38;5;124;43m\"\u001b[39;49m\u001b[38;5;124;43mmemory_map\u001b[39;49m\u001b[38;5;124;43m\"\u001b[39;49m\u001b[43m,\u001b[49m\u001b[43m \u001b[49m\u001b[38;5;28;43;01mFalse\u001b[39;49;00m\u001b[43m)\u001b[49m\u001b[43m,\u001b[49m\n\u001b[1;32m   1711\u001b[0m \u001b[43m    \u001b[49m\u001b[43mis_text\u001b[49m\u001b[38;5;241;43m=\u001b[39;49m\u001b[43mis_text\u001b[49m\u001b[43m,\u001b[49m\n\u001b[1;32m   1712\u001b[0m \u001b[43m    \u001b[49m\u001b[43merrors\u001b[49m\u001b[38;5;241;43m=\u001b[39;49m\u001b[38;5;28;43mself\u001b[39;49m\u001b[38;5;241;43m.\u001b[39;49m\u001b[43moptions\u001b[49m\u001b[38;5;241;43m.\u001b[39;49m\u001b[43mget\u001b[49m\u001b[43m(\u001b[49m\u001b[38;5;124;43m\"\u001b[39;49m\u001b[38;5;124;43mencoding_errors\u001b[39;49m\u001b[38;5;124;43m\"\u001b[39;49m\u001b[43m,\u001b[49m\u001b[43m \u001b[49m\u001b[38;5;124;43m\"\u001b[39;49m\u001b[38;5;124;43mstrict\u001b[39;49m\u001b[38;5;124;43m\"\u001b[39;49m\u001b[43m)\u001b[49m\u001b[43m,\u001b[49m\n\u001b[1;32m   1713\u001b[0m \u001b[43m    \u001b[49m\u001b[43mstorage_options\u001b[49m\u001b[38;5;241;43m=\u001b[39;49m\u001b[38;5;28;43mself\u001b[39;49m\u001b[38;5;241;43m.\u001b[39;49m\u001b[43moptions\u001b[49m\u001b[38;5;241;43m.\u001b[39;49m\u001b[43mget\u001b[49m\u001b[43m(\u001b[49m\u001b[38;5;124;43m\"\u001b[39;49m\u001b[38;5;124;43mstorage_options\u001b[39;49m\u001b[38;5;124;43m\"\u001b[39;49m\u001b[43m,\u001b[49m\u001b[43m \u001b[49m\u001b[38;5;28;43;01mNone\u001b[39;49;00m\u001b[43m)\u001b[49m\u001b[43m,\u001b[49m\n\u001b[1;32m   1714\u001b[0m \u001b[43m\u001b[49m\u001b[43m)\u001b[49m\n\u001b[1;32m   1715\u001b[0m \u001b[38;5;28;01massert\u001b[39;00m \u001b[38;5;28mself\u001b[39m\u001b[38;5;241m.\u001b[39mhandles \u001b[38;5;129;01mis\u001b[39;00m \u001b[38;5;129;01mnot\u001b[39;00m \u001b[38;5;28;01mNone\u001b[39;00m\n\u001b[1;32m   1716\u001b[0m f \u001b[38;5;241m=\u001b[39m \u001b[38;5;28mself\u001b[39m\u001b[38;5;241m.\u001b[39mhandles\u001b[38;5;241m.\u001b[39mhandle\n",
      "File \u001b[0;32m~/anaconda3/envs/scrapper/lib/python3.10/site-packages/pandas/io/common.py:863\u001b[0m, in \u001b[0;36mget_handle\u001b[0;34m(path_or_buf, mode, encoding, compression, memory_map, is_text, errors, storage_options)\u001b[0m\n\u001b[1;32m    858\u001b[0m \u001b[38;5;28;01melif\u001b[39;00m \u001b[38;5;28misinstance\u001b[39m(handle, \u001b[38;5;28mstr\u001b[39m):\n\u001b[1;32m    859\u001b[0m     \u001b[38;5;66;03m# Check whether the filename is to be opened in binary mode.\u001b[39;00m\n\u001b[1;32m    860\u001b[0m     \u001b[38;5;66;03m# Binary mode does not support 'encoding' and 'newline'.\u001b[39;00m\n\u001b[1;32m    861\u001b[0m     \u001b[38;5;28;01mif\u001b[39;00m ioargs\u001b[38;5;241m.\u001b[39mencoding \u001b[38;5;129;01mand\u001b[39;00m \u001b[38;5;124m\"\u001b[39m\u001b[38;5;124mb\u001b[39m\u001b[38;5;124m\"\u001b[39m \u001b[38;5;129;01mnot\u001b[39;00m \u001b[38;5;129;01min\u001b[39;00m ioargs\u001b[38;5;241m.\u001b[39mmode:\n\u001b[1;32m    862\u001b[0m         \u001b[38;5;66;03m# Encoding\u001b[39;00m\n\u001b[0;32m--> 863\u001b[0m         handle \u001b[38;5;241m=\u001b[39m \u001b[38;5;28;43mopen\u001b[39;49m\u001b[43m(\u001b[49m\n\u001b[1;32m    864\u001b[0m \u001b[43m            \u001b[49m\u001b[43mhandle\u001b[49m\u001b[43m,\u001b[49m\n\u001b[1;32m    865\u001b[0m \u001b[43m            \u001b[49m\u001b[43mioargs\u001b[49m\u001b[38;5;241;43m.\u001b[39;49m\u001b[43mmode\u001b[49m\u001b[43m,\u001b[49m\n\u001b[1;32m    866\u001b[0m \u001b[43m            \u001b[49m\u001b[43mencoding\u001b[49m\u001b[38;5;241;43m=\u001b[39;49m\u001b[43mioargs\u001b[49m\u001b[38;5;241;43m.\u001b[39;49m\u001b[43mencoding\u001b[49m\u001b[43m,\u001b[49m\n\u001b[1;32m    867\u001b[0m \u001b[43m            \u001b[49m\u001b[43merrors\u001b[49m\u001b[38;5;241;43m=\u001b[39;49m\u001b[43merrors\u001b[49m\u001b[43m,\u001b[49m\n\u001b[1;32m    868\u001b[0m \u001b[43m            \u001b[49m\u001b[43mnewline\u001b[49m\u001b[38;5;241;43m=\u001b[39;49m\u001b[38;5;124;43m\"\u001b[39;49m\u001b[38;5;124;43m\"\u001b[39;49m\u001b[43m,\u001b[49m\n\u001b[1;32m    869\u001b[0m \u001b[43m        \u001b[49m\u001b[43m)\u001b[49m\n\u001b[1;32m    870\u001b[0m     \u001b[38;5;28;01melse\u001b[39;00m:\n\u001b[1;32m    871\u001b[0m         \u001b[38;5;66;03m# Binary mode\u001b[39;00m\n\u001b[1;32m    872\u001b[0m         handle \u001b[38;5;241m=\u001b[39m \u001b[38;5;28mopen\u001b[39m(handle, ioargs\u001b[38;5;241m.\u001b[39mmode)\n",
      "\u001b[0;31mFileNotFoundError\u001b[0m: [Errno 2] No such file or directory: 'final_data.csv'"
     ]
    }
   ],
   "source": [
    "def get_soup_by_url(url, product: str = None):\n",
    "    if product is None:\n",
    "        url = url\n",
    "    else:\n",
    "        url = f'{url}/{product}'\n",
    "    r = requests.get(url=url)\n",
    "    s = BeautifulSoup(r.content, 'html.parser')\n",
    "    return s\n",
    "\n",
    "def get_vehicle_info(url):\n",
    "    s = get_soup_by_url(url)\n",
    "    text = s.find_all('span', attrs= {'class':'ui-pdp-subtitle'})[0].text.replace('.', '')\n",
    "    parts = text.split(' · ')\n",
    "    location = s.find('p', attrs = {'class':'ui-seller-info__status-info__subtitle'}).text\n",
    "    pub_number = s.find_all('span', attrs= {'class':'ui-pdp-color--BLACK ui-pdp-family--SEMIBOLD'})[0].text.replace('#','')\n",
    "    year = parts[0].split(' | ')[0]\n",
    "    kilometrage = parts[0].split(' | ')[1].replace('km', '')\n",
    "    publication_date = parts[1]\n",
    "    output_dict = {\n",
    "        \"Year\": year,\n",
    "        \"Kilometrage\": kilometrage,\n",
    "        \"Publication Date\": publication_date,\n",
    "        \"Location\": location,\n",
    "        \"Pub Number\": pub_number,\n",
    "        \"Created At\": datetime.datetime.now().strftime(\"%Y-%m-%d %H:%M:%S\")\n",
    "    }\n",
    "\n",
    "    return output_dict\n",
    "data = pd.read_csv('final_data.csv')"
   ]
  },
  {
   "cell_type": "code",
   "execution_count": 21,
   "metadata": {},
   "outputs": [
    {
     "data": {
      "text/plain": [
       "0    {'Year': '2017', 'Kilometrage': '47800 ', 'Pub...\n",
       "1    {'Year': '2015', 'Kilometrage': '72000 ', 'Pub...\n",
       "2    {'Year': '2015', 'Kilometrage': '73251 ', 'Pub...\n",
       "3    {'Year': '2012', 'Kilometrage': '75500 ', 'Pub...\n",
       "4    {'Year': '2017', 'Kilometrage': '80000 ', 'Pub...\n",
       "Name: link, dtype: object"
      ]
     },
     "execution_count": 21,
     "metadata": {},
     "output_type": "execute_result"
    }
   ],
   "source": [
    "data['link'][:5].apply(get_vehicle_info)"
   ]
  },
  {
   "cell_type": "code",
   "execution_count": 19,
   "metadata": {},
   "outputs": [
    {
     "ename": "KeyboardInterrupt",
     "evalue": "",
     "output_type": "error",
     "traceback": [
      "\u001b[0;31m---------------------------------------------------------------------------\u001b[0m",
      "\u001b[0;31mKeyboardInterrupt\u001b[0m                         Traceback (most recent call last)",
      "Cell \u001b[0;32mIn[19], line 1\u001b[0m\n\u001b[0;32m----> 1\u001b[0m \u001b[43mdata\u001b[49m\u001b[43m[\u001b[49m\u001b[38;5;124;43m'\u001b[39;49m\u001b[38;5;124;43mlink\u001b[39;49m\u001b[38;5;124;43m'\u001b[39;49m\u001b[43m]\u001b[49m\u001b[38;5;241;43m.\u001b[39;49m\u001b[43mapply\u001b[49m\u001b[43m(\u001b[49m\u001b[43mget_vehicle_info\u001b[49m\u001b[43m)\u001b[49m\n",
      "File \u001b[0;32m~/anaconda3/envs/scrapper/lib/python3.10/site-packages/pandas/core/series.py:4764\u001b[0m, in \u001b[0;36mSeries.apply\u001b[0;34m(self, func, convert_dtype, args, by_row, **kwargs)\u001b[0m\n\u001b[1;32m   4629\u001b[0m \u001b[38;5;28;01mdef\u001b[39;00m \u001b[38;5;21mapply\u001b[39m(\n\u001b[1;32m   4630\u001b[0m     \u001b[38;5;28mself\u001b[39m,\n\u001b[1;32m   4631\u001b[0m     func: AggFuncType,\n\u001b[0;32m   (...)\u001b[0m\n\u001b[1;32m   4636\u001b[0m     \u001b[38;5;241m*\u001b[39m\u001b[38;5;241m*\u001b[39mkwargs,\n\u001b[1;32m   4637\u001b[0m ) \u001b[38;5;241m-\u001b[39m\u001b[38;5;241m>\u001b[39m DataFrame \u001b[38;5;241m|\u001b[39m Series:\n\u001b[1;32m   4638\u001b[0m \u001b[38;5;250m    \u001b[39m\u001b[38;5;124;03m\"\"\"\u001b[39;00m\n\u001b[1;32m   4639\u001b[0m \u001b[38;5;124;03m    Invoke function on values of Series.\u001b[39;00m\n\u001b[1;32m   4640\u001b[0m \n\u001b[0;32m   (...)\u001b[0m\n\u001b[1;32m   4755\u001b[0m \u001b[38;5;124;03m    dtype: float64\u001b[39;00m\n\u001b[1;32m   4756\u001b[0m \u001b[38;5;124;03m    \"\"\"\u001b[39;00m\n\u001b[1;32m   4757\u001b[0m     \u001b[38;5;28;01mreturn\u001b[39;00m \u001b[43mSeriesApply\u001b[49m\u001b[43m(\u001b[49m\n\u001b[1;32m   4758\u001b[0m \u001b[43m        \u001b[49m\u001b[38;5;28;43mself\u001b[39;49m\u001b[43m,\u001b[49m\n\u001b[1;32m   4759\u001b[0m \u001b[43m        \u001b[49m\u001b[43mfunc\u001b[49m\u001b[43m,\u001b[49m\n\u001b[1;32m   4760\u001b[0m \u001b[43m        \u001b[49m\u001b[43mconvert_dtype\u001b[49m\u001b[38;5;241;43m=\u001b[39;49m\u001b[43mconvert_dtype\u001b[49m\u001b[43m,\u001b[49m\n\u001b[1;32m   4761\u001b[0m \u001b[43m        \u001b[49m\u001b[43mby_row\u001b[49m\u001b[38;5;241;43m=\u001b[39;49m\u001b[43mby_row\u001b[49m\u001b[43m,\u001b[49m\n\u001b[1;32m   4762\u001b[0m \u001b[43m        \u001b[49m\u001b[43margs\u001b[49m\u001b[38;5;241;43m=\u001b[39;49m\u001b[43margs\u001b[49m\u001b[43m,\u001b[49m\n\u001b[1;32m   4763\u001b[0m \u001b[43m        \u001b[49m\u001b[43mkwargs\u001b[49m\u001b[38;5;241;43m=\u001b[39;49m\u001b[43mkwargs\u001b[49m\u001b[43m,\u001b[49m\n\u001b[0;32m-> 4764\u001b[0m \u001b[43m    \u001b[49m\u001b[43m)\u001b[49m\u001b[38;5;241;43m.\u001b[39;49m\u001b[43mapply\u001b[49m\u001b[43m(\u001b[49m\u001b[43m)\u001b[49m\n",
      "File \u001b[0;32m~/anaconda3/envs/scrapper/lib/python3.10/site-packages/pandas/core/apply.py:1209\u001b[0m, in \u001b[0;36mSeriesApply.apply\u001b[0;34m(self)\u001b[0m\n\u001b[1;32m   1206\u001b[0m     \u001b[38;5;28;01mreturn\u001b[39;00m \u001b[38;5;28mself\u001b[39m\u001b[38;5;241m.\u001b[39mapply_compat()\n\u001b[1;32m   1208\u001b[0m \u001b[38;5;66;03m# self.func is Callable\u001b[39;00m\n\u001b[0;32m-> 1209\u001b[0m \u001b[38;5;28;01mreturn\u001b[39;00m \u001b[38;5;28;43mself\u001b[39;49m\u001b[38;5;241;43m.\u001b[39;49m\u001b[43mapply_standard\u001b[49m\u001b[43m(\u001b[49m\u001b[43m)\u001b[49m\n",
      "File \u001b[0;32m~/anaconda3/envs/scrapper/lib/python3.10/site-packages/pandas/core/apply.py:1289\u001b[0m, in \u001b[0;36mSeriesApply.apply_standard\u001b[0;34m(self)\u001b[0m\n\u001b[1;32m   1283\u001b[0m \u001b[38;5;66;03m# row-wise access\u001b[39;00m\n\u001b[1;32m   1284\u001b[0m \u001b[38;5;66;03m# apply doesn't have a `na_action` keyword and for backward compat reasons\u001b[39;00m\n\u001b[1;32m   1285\u001b[0m \u001b[38;5;66;03m# we need to give `na_action=\"ignore\"` for categorical data.\u001b[39;00m\n\u001b[1;32m   1286\u001b[0m \u001b[38;5;66;03m# TODO: remove the `na_action=\"ignore\"` when that default has been changed in\u001b[39;00m\n\u001b[1;32m   1287\u001b[0m \u001b[38;5;66;03m#  Categorical (GH51645).\u001b[39;00m\n\u001b[1;32m   1288\u001b[0m action \u001b[38;5;241m=\u001b[39m \u001b[38;5;124m\"\u001b[39m\u001b[38;5;124mignore\u001b[39m\u001b[38;5;124m\"\u001b[39m \u001b[38;5;28;01mif\u001b[39;00m \u001b[38;5;28misinstance\u001b[39m(obj\u001b[38;5;241m.\u001b[39mdtype, CategoricalDtype) \u001b[38;5;28;01melse\u001b[39;00m \u001b[38;5;28;01mNone\u001b[39;00m\n\u001b[0;32m-> 1289\u001b[0m mapped \u001b[38;5;241m=\u001b[39m \u001b[43mobj\u001b[49m\u001b[38;5;241;43m.\u001b[39;49m\u001b[43m_map_values\u001b[49m\u001b[43m(\u001b[49m\n\u001b[1;32m   1290\u001b[0m \u001b[43m    \u001b[49m\u001b[43mmapper\u001b[49m\u001b[38;5;241;43m=\u001b[39;49m\u001b[43mcurried\u001b[49m\u001b[43m,\u001b[49m\u001b[43m \u001b[49m\u001b[43mna_action\u001b[49m\u001b[38;5;241;43m=\u001b[39;49m\u001b[43maction\u001b[49m\u001b[43m,\u001b[49m\u001b[43m \u001b[49m\u001b[43mconvert\u001b[49m\u001b[38;5;241;43m=\u001b[39;49m\u001b[38;5;28;43mself\u001b[39;49m\u001b[38;5;241;43m.\u001b[39;49m\u001b[43mconvert_dtype\u001b[49m\n\u001b[1;32m   1291\u001b[0m \u001b[43m\u001b[49m\u001b[43m)\u001b[49m\n\u001b[1;32m   1293\u001b[0m \u001b[38;5;28;01mif\u001b[39;00m \u001b[38;5;28mlen\u001b[39m(mapped) \u001b[38;5;129;01mand\u001b[39;00m \u001b[38;5;28misinstance\u001b[39m(mapped[\u001b[38;5;241m0\u001b[39m], ABCSeries):\n\u001b[1;32m   1294\u001b[0m     \u001b[38;5;66;03m# GH#43986 Need to do list(mapped) in order to get treated as nested\u001b[39;00m\n\u001b[1;32m   1295\u001b[0m     \u001b[38;5;66;03m#  See also GH#25959 regarding EA support\u001b[39;00m\n\u001b[1;32m   1296\u001b[0m     \u001b[38;5;28;01mreturn\u001b[39;00m obj\u001b[38;5;241m.\u001b[39m_constructor_expanddim(\u001b[38;5;28mlist\u001b[39m(mapped), index\u001b[38;5;241m=\u001b[39mobj\u001b[38;5;241m.\u001b[39mindex)\n",
      "File \u001b[0;32m~/anaconda3/envs/scrapper/lib/python3.10/site-packages/pandas/core/base.py:921\u001b[0m, in \u001b[0;36mIndexOpsMixin._map_values\u001b[0;34m(self, mapper, na_action, convert)\u001b[0m\n\u001b[1;32m    918\u001b[0m \u001b[38;5;28;01mif\u001b[39;00m \u001b[38;5;28misinstance\u001b[39m(arr, ExtensionArray):\n\u001b[1;32m    919\u001b[0m     \u001b[38;5;28;01mreturn\u001b[39;00m arr\u001b[38;5;241m.\u001b[39mmap(mapper, na_action\u001b[38;5;241m=\u001b[39mna_action)\n\u001b[0;32m--> 921\u001b[0m \u001b[38;5;28;01mreturn\u001b[39;00m \u001b[43malgorithms\u001b[49m\u001b[38;5;241;43m.\u001b[39;49m\u001b[43mmap_array\u001b[49m\u001b[43m(\u001b[49m\u001b[43marr\u001b[49m\u001b[43m,\u001b[49m\u001b[43m \u001b[49m\u001b[43mmapper\u001b[49m\u001b[43m,\u001b[49m\u001b[43m \u001b[49m\u001b[43mna_action\u001b[49m\u001b[38;5;241;43m=\u001b[39;49m\u001b[43mna_action\u001b[49m\u001b[43m,\u001b[49m\u001b[43m \u001b[49m\u001b[43mconvert\u001b[49m\u001b[38;5;241;43m=\u001b[39;49m\u001b[43mconvert\u001b[49m\u001b[43m)\u001b[49m\n",
      "File \u001b[0;32m~/anaconda3/envs/scrapper/lib/python3.10/site-packages/pandas/core/algorithms.py:1814\u001b[0m, in \u001b[0;36mmap_array\u001b[0;34m(arr, mapper, na_action, convert)\u001b[0m\n\u001b[1;32m   1812\u001b[0m values \u001b[38;5;241m=\u001b[39m arr\u001b[38;5;241m.\u001b[39mastype(\u001b[38;5;28mobject\u001b[39m, copy\u001b[38;5;241m=\u001b[39m\u001b[38;5;28;01mFalse\u001b[39;00m)\n\u001b[1;32m   1813\u001b[0m \u001b[38;5;28;01mif\u001b[39;00m na_action \u001b[38;5;129;01mis\u001b[39;00m \u001b[38;5;28;01mNone\u001b[39;00m:\n\u001b[0;32m-> 1814\u001b[0m     \u001b[38;5;28;01mreturn\u001b[39;00m \u001b[43mlib\u001b[49m\u001b[38;5;241;43m.\u001b[39;49m\u001b[43mmap_infer\u001b[49m\u001b[43m(\u001b[49m\u001b[43mvalues\u001b[49m\u001b[43m,\u001b[49m\u001b[43m \u001b[49m\u001b[43mmapper\u001b[49m\u001b[43m,\u001b[49m\u001b[43m \u001b[49m\u001b[43mconvert\u001b[49m\u001b[38;5;241;43m=\u001b[39;49m\u001b[43mconvert\u001b[49m\u001b[43m)\u001b[49m\n\u001b[1;32m   1815\u001b[0m \u001b[38;5;28;01melse\u001b[39;00m:\n\u001b[1;32m   1816\u001b[0m     \u001b[38;5;28;01mreturn\u001b[39;00m lib\u001b[38;5;241m.\u001b[39mmap_infer_mask(\n\u001b[1;32m   1817\u001b[0m         values, mapper, mask\u001b[38;5;241m=\u001b[39misna(values)\u001b[38;5;241m.\u001b[39mview(np\u001b[38;5;241m.\u001b[39muint8), convert\u001b[38;5;241m=\u001b[39mconvert\n\u001b[1;32m   1818\u001b[0m     )\n",
      "File \u001b[0;32mlib.pyx:2926\u001b[0m, in \u001b[0;36mpandas._libs.lib.map_infer\u001b[0;34m()\u001b[0m\n",
      "Cell \u001b[0;32mIn[18], line 11\u001b[0m, in \u001b[0;36mget_vehicle_info\u001b[0;34m(url)\u001b[0m\n\u001b[1;32m     10\u001b[0m \u001b[38;5;28;01mdef\u001b[39;00m \u001b[38;5;21mget_vehicle_info\u001b[39m(url):\n\u001b[0;32m---> 11\u001b[0m     s \u001b[38;5;241m=\u001b[39m \u001b[43mget_soup_by_url\u001b[49m\u001b[43m(\u001b[49m\u001b[43murl\u001b[49m\u001b[43m)\u001b[49m\n\u001b[1;32m     12\u001b[0m     text \u001b[38;5;241m=\u001b[39m s\u001b[38;5;241m.\u001b[39mfind_all(\u001b[38;5;124m'\u001b[39m\u001b[38;5;124mspan\u001b[39m\u001b[38;5;124m'\u001b[39m, attrs\u001b[38;5;241m=\u001b[39m {\u001b[38;5;124m'\u001b[39m\u001b[38;5;124mclass\u001b[39m\u001b[38;5;124m'\u001b[39m:\u001b[38;5;124m'\u001b[39m\u001b[38;5;124mui-pdp-subtitle\u001b[39m\u001b[38;5;124m'\u001b[39m})[\u001b[38;5;241m0\u001b[39m]\u001b[38;5;241m.\u001b[39mtext\u001b[38;5;241m.\u001b[39mreplace(\u001b[38;5;124m'\u001b[39m\u001b[38;5;124m.\u001b[39m\u001b[38;5;124m'\u001b[39m, \u001b[38;5;124m'\u001b[39m\u001b[38;5;124m'\u001b[39m)\n\u001b[1;32m     13\u001b[0m     parts \u001b[38;5;241m=\u001b[39m text\u001b[38;5;241m.\u001b[39msplit(\u001b[38;5;124m'\u001b[39m\u001b[38;5;124m · \u001b[39m\u001b[38;5;124m'\u001b[39m)\n",
      "Cell \u001b[0;32mIn[18], line 6\u001b[0m, in \u001b[0;36mget_soup_by_url\u001b[0;34m(url, product)\u001b[0m\n\u001b[1;32m      4\u001b[0m \u001b[38;5;28;01melse\u001b[39;00m:\n\u001b[1;32m      5\u001b[0m     url \u001b[38;5;241m=\u001b[39m \u001b[38;5;124mf\u001b[39m\u001b[38;5;124m'\u001b[39m\u001b[38;5;132;01m{\u001b[39;00murl\u001b[38;5;132;01m}\u001b[39;00m\u001b[38;5;124m/\u001b[39m\u001b[38;5;132;01m{\u001b[39;00mproduct\u001b[38;5;132;01m}\u001b[39;00m\u001b[38;5;124m'\u001b[39m\n\u001b[0;32m----> 6\u001b[0m r \u001b[38;5;241m=\u001b[39m \u001b[43mrequests\u001b[49m\u001b[38;5;241;43m.\u001b[39;49m\u001b[43mget\u001b[49m\u001b[43m(\u001b[49m\u001b[43murl\u001b[49m\u001b[38;5;241;43m=\u001b[39;49m\u001b[43murl\u001b[49m\u001b[43m)\u001b[49m\n\u001b[1;32m      7\u001b[0m s \u001b[38;5;241m=\u001b[39m BeautifulSoup(r\u001b[38;5;241m.\u001b[39mcontent, \u001b[38;5;124m'\u001b[39m\u001b[38;5;124mhtml.parser\u001b[39m\u001b[38;5;124m'\u001b[39m)\n\u001b[1;32m      8\u001b[0m \u001b[38;5;28;01mreturn\u001b[39;00m s\n",
      "File \u001b[0;32m~/anaconda3/envs/scrapper/lib/python3.10/site-packages/requests/api.py:73\u001b[0m, in \u001b[0;36mget\u001b[0;34m(url, params, **kwargs)\u001b[0m\n\u001b[1;32m     62\u001b[0m \u001b[38;5;28;01mdef\u001b[39;00m \u001b[38;5;21mget\u001b[39m(url, params\u001b[38;5;241m=\u001b[39m\u001b[38;5;28;01mNone\u001b[39;00m, \u001b[38;5;241m*\u001b[39m\u001b[38;5;241m*\u001b[39mkwargs):\n\u001b[1;32m     63\u001b[0m \u001b[38;5;250m    \u001b[39m\u001b[38;5;124mr\u001b[39m\u001b[38;5;124;03m\"\"\"Sends a GET request.\u001b[39;00m\n\u001b[1;32m     64\u001b[0m \n\u001b[1;32m     65\u001b[0m \u001b[38;5;124;03m    :param url: URL for the new :class:`Request` object.\u001b[39;00m\n\u001b[0;32m   (...)\u001b[0m\n\u001b[1;32m     70\u001b[0m \u001b[38;5;124;03m    :rtype: requests.Response\u001b[39;00m\n\u001b[1;32m     71\u001b[0m \u001b[38;5;124;03m    \"\"\"\u001b[39;00m\n\u001b[0;32m---> 73\u001b[0m     \u001b[38;5;28;01mreturn\u001b[39;00m \u001b[43mrequest\u001b[49m\u001b[43m(\u001b[49m\u001b[38;5;124;43m\"\u001b[39;49m\u001b[38;5;124;43mget\u001b[39;49m\u001b[38;5;124;43m\"\u001b[39;49m\u001b[43m,\u001b[49m\u001b[43m \u001b[49m\u001b[43murl\u001b[49m\u001b[43m,\u001b[49m\u001b[43m \u001b[49m\u001b[43mparams\u001b[49m\u001b[38;5;241;43m=\u001b[39;49m\u001b[43mparams\u001b[49m\u001b[43m,\u001b[49m\u001b[43m \u001b[49m\u001b[38;5;241;43m*\u001b[39;49m\u001b[38;5;241;43m*\u001b[39;49m\u001b[43mkwargs\u001b[49m\u001b[43m)\u001b[49m\n",
      "File \u001b[0;32m~/anaconda3/envs/scrapper/lib/python3.10/site-packages/requests/api.py:59\u001b[0m, in \u001b[0;36mrequest\u001b[0;34m(method, url, **kwargs)\u001b[0m\n\u001b[1;32m     55\u001b[0m \u001b[38;5;66;03m# By using the 'with' statement we are sure the session is closed, thus we\u001b[39;00m\n\u001b[1;32m     56\u001b[0m \u001b[38;5;66;03m# avoid leaving sockets open which can trigger a ResourceWarning in some\u001b[39;00m\n\u001b[1;32m     57\u001b[0m \u001b[38;5;66;03m# cases, and look like a memory leak in others.\u001b[39;00m\n\u001b[1;32m     58\u001b[0m \u001b[38;5;28;01mwith\u001b[39;00m sessions\u001b[38;5;241m.\u001b[39mSession() \u001b[38;5;28;01mas\u001b[39;00m session:\n\u001b[0;32m---> 59\u001b[0m     \u001b[38;5;28;01mreturn\u001b[39;00m \u001b[43msession\u001b[49m\u001b[38;5;241;43m.\u001b[39;49m\u001b[43mrequest\u001b[49m\u001b[43m(\u001b[49m\u001b[43mmethod\u001b[49m\u001b[38;5;241;43m=\u001b[39;49m\u001b[43mmethod\u001b[49m\u001b[43m,\u001b[49m\u001b[43m \u001b[49m\u001b[43murl\u001b[49m\u001b[38;5;241;43m=\u001b[39;49m\u001b[43murl\u001b[49m\u001b[43m,\u001b[49m\u001b[43m \u001b[49m\u001b[38;5;241;43m*\u001b[39;49m\u001b[38;5;241;43m*\u001b[39;49m\u001b[43mkwargs\u001b[49m\u001b[43m)\u001b[49m\n",
      "File \u001b[0;32m~/anaconda3/envs/scrapper/lib/python3.10/site-packages/requests/sessions.py:589\u001b[0m, in \u001b[0;36mSession.request\u001b[0;34m(self, method, url, params, data, headers, cookies, files, auth, timeout, allow_redirects, proxies, hooks, stream, verify, cert, json)\u001b[0m\n\u001b[1;32m    584\u001b[0m send_kwargs \u001b[38;5;241m=\u001b[39m {\n\u001b[1;32m    585\u001b[0m     \u001b[38;5;124m\"\u001b[39m\u001b[38;5;124mtimeout\u001b[39m\u001b[38;5;124m\"\u001b[39m: timeout,\n\u001b[1;32m    586\u001b[0m     \u001b[38;5;124m\"\u001b[39m\u001b[38;5;124mallow_redirects\u001b[39m\u001b[38;5;124m\"\u001b[39m: allow_redirects,\n\u001b[1;32m    587\u001b[0m }\n\u001b[1;32m    588\u001b[0m send_kwargs\u001b[38;5;241m.\u001b[39mupdate(settings)\n\u001b[0;32m--> 589\u001b[0m resp \u001b[38;5;241m=\u001b[39m \u001b[38;5;28;43mself\u001b[39;49m\u001b[38;5;241;43m.\u001b[39;49m\u001b[43msend\u001b[49m\u001b[43m(\u001b[49m\u001b[43mprep\u001b[49m\u001b[43m,\u001b[49m\u001b[43m \u001b[49m\u001b[38;5;241;43m*\u001b[39;49m\u001b[38;5;241;43m*\u001b[39;49m\u001b[43msend_kwargs\u001b[49m\u001b[43m)\u001b[49m\n\u001b[1;32m    591\u001b[0m \u001b[38;5;28;01mreturn\u001b[39;00m resp\n",
      "File \u001b[0;32m~/anaconda3/envs/scrapper/lib/python3.10/site-packages/requests/sessions.py:703\u001b[0m, in \u001b[0;36mSession.send\u001b[0;34m(self, request, **kwargs)\u001b[0m\n\u001b[1;32m    700\u001b[0m start \u001b[38;5;241m=\u001b[39m preferred_clock()\n\u001b[1;32m    702\u001b[0m \u001b[38;5;66;03m# Send the request\u001b[39;00m\n\u001b[0;32m--> 703\u001b[0m r \u001b[38;5;241m=\u001b[39m \u001b[43madapter\u001b[49m\u001b[38;5;241;43m.\u001b[39;49m\u001b[43msend\u001b[49m\u001b[43m(\u001b[49m\u001b[43mrequest\u001b[49m\u001b[43m,\u001b[49m\u001b[43m \u001b[49m\u001b[38;5;241;43m*\u001b[39;49m\u001b[38;5;241;43m*\u001b[39;49m\u001b[43mkwargs\u001b[49m\u001b[43m)\u001b[49m\n\u001b[1;32m    705\u001b[0m \u001b[38;5;66;03m# Total elapsed time of the request (approximately)\u001b[39;00m\n\u001b[1;32m    706\u001b[0m elapsed \u001b[38;5;241m=\u001b[39m preferred_clock() \u001b[38;5;241m-\u001b[39m start\n",
      "File \u001b[0;32m~/anaconda3/envs/scrapper/lib/python3.10/site-packages/requests/adapters.py:486\u001b[0m, in \u001b[0;36mHTTPAdapter.send\u001b[0;34m(self, request, stream, timeout, verify, cert, proxies)\u001b[0m\n\u001b[1;32m    483\u001b[0m     timeout \u001b[38;5;241m=\u001b[39m TimeoutSauce(connect\u001b[38;5;241m=\u001b[39mtimeout, read\u001b[38;5;241m=\u001b[39mtimeout)\n\u001b[1;32m    485\u001b[0m \u001b[38;5;28;01mtry\u001b[39;00m:\n\u001b[0;32m--> 486\u001b[0m     resp \u001b[38;5;241m=\u001b[39m \u001b[43mconn\u001b[49m\u001b[38;5;241;43m.\u001b[39;49m\u001b[43murlopen\u001b[49m\u001b[43m(\u001b[49m\n\u001b[1;32m    487\u001b[0m \u001b[43m        \u001b[49m\u001b[43mmethod\u001b[49m\u001b[38;5;241;43m=\u001b[39;49m\u001b[43mrequest\u001b[49m\u001b[38;5;241;43m.\u001b[39;49m\u001b[43mmethod\u001b[49m\u001b[43m,\u001b[49m\n\u001b[1;32m    488\u001b[0m \u001b[43m        \u001b[49m\u001b[43murl\u001b[49m\u001b[38;5;241;43m=\u001b[39;49m\u001b[43murl\u001b[49m\u001b[43m,\u001b[49m\n\u001b[1;32m    489\u001b[0m \u001b[43m        \u001b[49m\u001b[43mbody\u001b[49m\u001b[38;5;241;43m=\u001b[39;49m\u001b[43mrequest\u001b[49m\u001b[38;5;241;43m.\u001b[39;49m\u001b[43mbody\u001b[49m\u001b[43m,\u001b[49m\n\u001b[1;32m    490\u001b[0m \u001b[43m        \u001b[49m\u001b[43mheaders\u001b[49m\u001b[38;5;241;43m=\u001b[39;49m\u001b[43mrequest\u001b[49m\u001b[38;5;241;43m.\u001b[39;49m\u001b[43mheaders\u001b[49m\u001b[43m,\u001b[49m\n\u001b[1;32m    491\u001b[0m \u001b[43m        \u001b[49m\u001b[43mredirect\u001b[49m\u001b[38;5;241;43m=\u001b[39;49m\u001b[38;5;28;43;01mFalse\u001b[39;49;00m\u001b[43m,\u001b[49m\n\u001b[1;32m    492\u001b[0m \u001b[43m        \u001b[49m\u001b[43massert_same_host\u001b[49m\u001b[38;5;241;43m=\u001b[39;49m\u001b[38;5;28;43;01mFalse\u001b[39;49;00m\u001b[43m,\u001b[49m\n\u001b[1;32m    493\u001b[0m \u001b[43m        \u001b[49m\u001b[43mpreload_content\u001b[49m\u001b[38;5;241;43m=\u001b[39;49m\u001b[38;5;28;43;01mFalse\u001b[39;49;00m\u001b[43m,\u001b[49m\n\u001b[1;32m    494\u001b[0m \u001b[43m        \u001b[49m\u001b[43mdecode_content\u001b[49m\u001b[38;5;241;43m=\u001b[39;49m\u001b[38;5;28;43;01mFalse\u001b[39;49;00m\u001b[43m,\u001b[49m\n\u001b[1;32m    495\u001b[0m \u001b[43m        \u001b[49m\u001b[43mretries\u001b[49m\u001b[38;5;241;43m=\u001b[39;49m\u001b[38;5;28;43mself\u001b[39;49m\u001b[38;5;241;43m.\u001b[39;49m\u001b[43mmax_retries\u001b[49m\u001b[43m,\u001b[49m\n\u001b[1;32m    496\u001b[0m \u001b[43m        \u001b[49m\u001b[43mtimeout\u001b[49m\u001b[38;5;241;43m=\u001b[39;49m\u001b[43mtimeout\u001b[49m\u001b[43m,\u001b[49m\n\u001b[1;32m    497\u001b[0m \u001b[43m        \u001b[49m\u001b[43mchunked\u001b[49m\u001b[38;5;241;43m=\u001b[39;49m\u001b[43mchunked\u001b[49m\u001b[43m,\u001b[49m\n\u001b[1;32m    498\u001b[0m \u001b[43m    \u001b[49m\u001b[43m)\u001b[49m\n\u001b[1;32m    500\u001b[0m \u001b[38;5;28;01mexcept\u001b[39;00m (ProtocolError, \u001b[38;5;167;01mOSError\u001b[39;00m) \u001b[38;5;28;01mas\u001b[39;00m err:\n\u001b[1;32m    501\u001b[0m     \u001b[38;5;28;01mraise\u001b[39;00m \u001b[38;5;167;01mConnectionError\u001b[39;00m(err, request\u001b[38;5;241m=\u001b[39mrequest)\n",
      "File \u001b[0;32m~/anaconda3/envs/scrapper/lib/python3.10/site-packages/urllib3/connectionpool.py:790\u001b[0m, in \u001b[0;36mHTTPConnectionPool.urlopen\u001b[0;34m(self, method, url, body, headers, retries, redirect, assert_same_host, timeout, pool_timeout, release_conn, chunked, body_pos, preload_content, decode_content, **response_kw)\u001b[0m\n\u001b[1;32m    787\u001b[0m response_conn \u001b[38;5;241m=\u001b[39m conn \u001b[38;5;28;01mif\u001b[39;00m \u001b[38;5;129;01mnot\u001b[39;00m release_conn \u001b[38;5;28;01melse\u001b[39;00m \u001b[38;5;28;01mNone\u001b[39;00m\n\u001b[1;32m    789\u001b[0m \u001b[38;5;66;03m# Make the request on the HTTPConnection object\u001b[39;00m\n\u001b[0;32m--> 790\u001b[0m response \u001b[38;5;241m=\u001b[39m \u001b[38;5;28;43mself\u001b[39;49m\u001b[38;5;241;43m.\u001b[39;49m\u001b[43m_make_request\u001b[49m\u001b[43m(\u001b[49m\n\u001b[1;32m    791\u001b[0m \u001b[43m    \u001b[49m\u001b[43mconn\u001b[49m\u001b[43m,\u001b[49m\n\u001b[1;32m    792\u001b[0m \u001b[43m    \u001b[49m\u001b[43mmethod\u001b[49m\u001b[43m,\u001b[49m\n\u001b[1;32m    793\u001b[0m \u001b[43m    \u001b[49m\u001b[43murl\u001b[49m\u001b[43m,\u001b[49m\n\u001b[1;32m    794\u001b[0m \u001b[43m    \u001b[49m\u001b[43mtimeout\u001b[49m\u001b[38;5;241;43m=\u001b[39;49m\u001b[43mtimeout_obj\u001b[49m\u001b[43m,\u001b[49m\n\u001b[1;32m    795\u001b[0m \u001b[43m    \u001b[49m\u001b[43mbody\u001b[49m\u001b[38;5;241;43m=\u001b[39;49m\u001b[43mbody\u001b[49m\u001b[43m,\u001b[49m\n\u001b[1;32m    796\u001b[0m \u001b[43m    \u001b[49m\u001b[43mheaders\u001b[49m\u001b[38;5;241;43m=\u001b[39;49m\u001b[43mheaders\u001b[49m\u001b[43m,\u001b[49m\n\u001b[1;32m    797\u001b[0m \u001b[43m    \u001b[49m\u001b[43mchunked\u001b[49m\u001b[38;5;241;43m=\u001b[39;49m\u001b[43mchunked\u001b[49m\u001b[43m,\u001b[49m\n\u001b[1;32m    798\u001b[0m \u001b[43m    \u001b[49m\u001b[43mretries\u001b[49m\u001b[38;5;241;43m=\u001b[39;49m\u001b[43mretries\u001b[49m\u001b[43m,\u001b[49m\n\u001b[1;32m    799\u001b[0m \u001b[43m    \u001b[49m\u001b[43mresponse_conn\u001b[49m\u001b[38;5;241;43m=\u001b[39;49m\u001b[43mresponse_conn\u001b[49m\u001b[43m,\u001b[49m\n\u001b[1;32m    800\u001b[0m \u001b[43m    \u001b[49m\u001b[43mpreload_content\u001b[49m\u001b[38;5;241;43m=\u001b[39;49m\u001b[43mpreload_content\u001b[49m\u001b[43m,\u001b[49m\n\u001b[1;32m    801\u001b[0m \u001b[43m    \u001b[49m\u001b[43mdecode_content\u001b[49m\u001b[38;5;241;43m=\u001b[39;49m\u001b[43mdecode_content\u001b[49m\u001b[43m,\u001b[49m\n\u001b[1;32m    802\u001b[0m \u001b[43m    \u001b[49m\u001b[38;5;241;43m*\u001b[39;49m\u001b[38;5;241;43m*\u001b[39;49m\u001b[43mresponse_kw\u001b[49m\u001b[43m,\u001b[49m\n\u001b[1;32m    803\u001b[0m \u001b[43m\u001b[49m\u001b[43m)\u001b[49m\n\u001b[1;32m    805\u001b[0m \u001b[38;5;66;03m# Everything went great!\u001b[39;00m\n\u001b[1;32m    806\u001b[0m clean_exit \u001b[38;5;241m=\u001b[39m \u001b[38;5;28;01mTrue\u001b[39;00m\n",
      "File \u001b[0;32m~/anaconda3/envs/scrapper/lib/python3.10/site-packages/urllib3/connectionpool.py:536\u001b[0m, in \u001b[0;36mHTTPConnectionPool._make_request\u001b[0;34m(self, conn, method, url, body, headers, retries, timeout, chunked, response_conn, preload_content, decode_content, enforce_content_length)\u001b[0m\n\u001b[1;32m    534\u001b[0m \u001b[38;5;66;03m# Receive the response from the server\u001b[39;00m\n\u001b[1;32m    535\u001b[0m \u001b[38;5;28;01mtry\u001b[39;00m:\n\u001b[0;32m--> 536\u001b[0m     response \u001b[38;5;241m=\u001b[39m \u001b[43mconn\u001b[49m\u001b[38;5;241;43m.\u001b[39;49m\u001b[43mgetresponse\u001b[49m\u001b[43m(\u001b[49m\u001b[43m)\u001b[49m\n\u001b[1;32m    537\u001b[0m \u001b[38;5;28;01mexcept\u001b[39;00m (BaseSSLError, \u001b[38;5;167;01mOSError\u001b[39;00m) \u001b[38;5;28;01mas\u001b[39;00m e:\n\u001b[1;32m    538\u001b[0m     \u001b[38;5;28mself\u001b[39m\u001b[38;5;241m.\u001b[39m_raise_timeout(err\u001b[38;5;241m=\u001b[39me, url\u001b[38;5;241m=\u001b[39murl, timeout_value\u001b[38;5;241m=\u001b[39mread_timeout)\n",
      "File \u001b[0;32m~/anaconda3/envs/scrapper/lib/python3.10/site-packages/urllib3/connection.py:461\u001b[0m, in \u001b[0;36mHTTPConnection.getresponse\u001b[0;34m(self)\u001b[0m\n\u001b[1;32m    458\u001b[0m \u001b[38;5;28;01mfrom\u001b[39;00m \u001b[38;5;21;01m.\u001b[39;00m\u001b[38;5;21;01mresponse\u001b[39;00m \u001b[38;5;28;01mimport\u001b[39;00m HTTPResponse\n\u001b[1;32m    460\u001b[0m \u001b[38;5;66;03m# Get the response from http.client.HTTPConnection\u001b[39;00m\n\u001b[0;32m--> 461\u001b[0m httplib_response \u001b[38;5;241m=\u001b[39m \u001b[38;5;28;43msuper\u001b[39;49m\u001b[43m(\u001b[49m\u001b[43m)\u001b[49m\u001b[38;5;241;43m.\u001b[39;49m\u001b[43mgetresponse\u001b[49m\u001b[43m(\u001b[49m\u001b[43m)\u001b[49m\n\u001b[1;32m    463\u001b[0m \u001b[38;5;28;01mtry\u001b[39;00m:\n\u001b[1;32m    464\u001b[0m     assert_header_parsing(httplib_response\u001b[38;5;241m.\u001b[39mmsg)\n",
      "File \u001b[0;32m~/anaconda3/envs/scrapper/lib/python3.10/http/client.py:1375\u001b[0m, in \u001b[0;36mHTTPConnection.getresponse\u001b[0;34m(self)\u001b[0m\n\u001b[1;32m   1373\u001b[0m \u001b[38;5;28;01mtry\u001b[39;00m:\n\u001b[1;32m   1374\u001b[0m     \u001b[38;5;28;01mtry\u001b[39;00m:\n\u001b[0;32m-> 1375\u001b[0m         \u001b[43mresponse\u001b[49m\u001b[38;5;241;43m.\u001b[39;49m\u001b[43mbegin\u001b[49m\u001b[43m(\u001b[49m\u001b[43m)\u001b[49m\n\u001b[1;32m   1376\u001b[0m     \u001b[38;5;28;01mexcept\u001b[39;00m \u001b[38;5;167;01mConnectionError\u001b[39;00m:\n\u001b[1;32m   1377\u001b[0m         \u001b[38;5;28mself\u001b[39m\u001b[38;5;241m.\u001b[39mclose()\n",
      "File \u001b[0;32m~/anaconda3/envs/scrapper/lib/python3.10/http/client.py:318\u001b[0m, in \u001b[0;36mHTTPResponse.begin\u001b[0;34m(self)\u001b[0m\n\u001b[1;32m    316\u001b[0m \u001b[38;5;66;03m# read until we get a non-100 response\u001b[39;00m\n\u001b[1;32m    317\u001b[0m \u001b[38;5;28;01mwhile\u001b[39;00m \u001b[38;5;28;01mTrue\u001b[39;00m:\n\u001b[0;32m--> 318\u001b[0m     version, status, reason \u001b[38;5;241m=\u001b[39m \u001b[38;5;28;43mself\u001b[39;49m\u001b[38;5;241;43m.\u001b[39;49m\u001b[43m_read_status\u001b[49m\u001b[43m(\u001b[49m\u001b[43m)\u001b[49m\n\u001b[1;32m    319\u001b[0m     \u001b[38;5;28;01mif\u001b[39;00m status \u001b[38;5;241m!=\u001b[39m CONTINUE:\n\u001b[1;32m    320\u001b[0m         \u001b[38;5;28;01mbreak\u001b[39;00m\n",
      "File \u001b[0;32m~/anaconda3/envs/scrapper/lib/python3.10/http/client.py:279\u001b[0m, in \u001b[0;36mHTTPResponse._read_status\u001b[0;34m(self)\u001b[0m\n\u001b[1;32m    278\u001b[0m \u001b[38;5;28;01mdef\u001b[39;00m \u001b[38;5;21m_read_status\u001b[39m(\u001b[38;5;28mself\u001b[39m):\n\u001b[0;32m--> 279\u001b[0m     line \u001b[38;5;241m=\u001b[39m \u001b[38;5;28mstr\u001b[39m(\u001b[38;5;28;43mself\u001b[39;49m\u001b[38;5;241;43m.\u001b[39;49m\u001b[43mfp\u001b[49m\u001b[38;5;241;43m.\u001b[39;49m\u001b[43mreadline\u001b[49m\u001b[43m(\u001b[49m\u001b[43m_MAXLINE\u001b[49m\u001b[43m \u001b[49m\u001b[38;5;241;43m+\u001b[39;49m\u001b[43m \u001b[49m\u001b[38;5;241;43m1\u001b[39;49m\u001b[43m)\u001b[49m, \u001b[38;5;124m\"\u001b[39m\u001b[38;5;124miso-8859-1\u001b[39m\u001b[38;5;124m\"\u001b[39m)\n\u001b[1;32m    280\u001b[0m     \u001b[38;5;28;01mif\u001b[39;00m \u001b[38;5;28mlen\u001b[39m(line) \u001b[38;5;241m>\u001b[39m _MAXLINE:\n\u001b[1;32m    281\u001b[0m         \u001b[38;5;28;01mraise\u001b[39;00m LineTooLong(\u001b[38;5;124m\"\u001b[39m\u001b[38;5;124mstatus line\u001b[39m\u001b[38;5;124m\"\u001b[39m)\n",
      "File \u001b[0;32m~/anaconda3/envs/scrapper/lib/python3.10/socket.py:705\u001b[0m, in \u001b[0;36mSocketIO.readinto\u001b[0;34m(self, b)\u001b[0m\n\u001b[1;32m    703\u001b[0m \u001b[38;5;28;01mwhile\u001b[39;00m \u001b[38;5;28;01mTrue\u001b[39;00m:\n\u001b[1;32m    704\u001b[0m     \u001b[38;5;28;01mtry\u001b[39;00m:\n\u001b[0;32m--> 705\u001b[0m         \u001b[38;5;28;01mreturn\u001b[39;00m \u001b[38;5;28;43mself\u001b[39;49m\u001b[38;5;241;43m.\u001b[39;49m\u001b[43m_sock\u001b[49m\u001b[38;5;241;43m.\u001b[39;49m\u001b[43mrecv_into\u001b[49m\u001b[43m(\u001b[49m\u001b[43mb\u001b[49m\u001b[43m)\u001b[49m\n\u001b[1;32m    706\u001b[0m     \u001b[38;5;28;01mexcept\u001b[39;00m timeout:\n\u001b[1;32m    707\u001b[0m         \u001b[38;5;28mself\u001b[39m\u001b[38;5;241m.\u001b[39m_timeout_occurred \u001b[38;5;241m=\u001b[39m \u001b[38;5;28;01mTrue\u001b[39;00m\n",
      "File \u001b[0;32m~/anaconda3/envs/scrapper/lib/python3.10/ssl.py:1307\u001b[0m, in \u001b[0;36mSSLSocket.recv_into\u001b[0;34m(self, buffer, nbytes, flags)\u001b[0m\n\u001b[1;32m   1303\u001b[0m     \u001b[38;5;28;01mif\u001b[39;00m flags \u001b[38;5;241m!=\u001b[39m \u001b[38;5;241m0\u001b[39m:\n\u001b[1;32m   1304\u001b[0m         \u001b[38;5;28;01mraise\u001b[39;00m \u001b[38;5;167;01mValueError\u001b[39;00m(\n\u001b[1;32m   1305\u001b[0m           \u001b[38;5;124m\"\u001b[39m\u001b[38;5;124mnon-zero flags not allowed in calls to recv_into() on \u001b[39m\u001b[38;5;132;01m%s\u001b[39;00m\u001b[38;5;124m\"\u001b[39m \u001b[38;5;241m%\u001b[39m\n\u001b[1;32m   1306\u001b[0m           \u001b[38;5;28mself\u001b[39m\u001b[38;5;241m.\u001b[39m\u001b[38;5;18m__class__\u001b[39m)\n\u001b[0;32m-> 1307\u001b[0m     \u001b[38;5;28;01mreturn\u001b[39;00m \u001b[38;5;28;43mself\u001b[39;49m\u001b[38;5;241;43m.\u001b[39;49m\u001b[43mread\u001b[49m\u001b[43m(\u001b[49m\u001b[43mnbytes\u001b[49m\u001b[43m,\u001b[49m\u001b[43m \u001b[49m\u001b[43mbuffer\u001b[49m\u001b[43m)\u001b[49m\n\u001b[1;32m   1308\u001b[0m \u001b[38;5;28;01melse\u001b[39;00m:\n\u001b[1;32m   1309\u001b[0m     \u001b[38;5;28;01mreturn\u001b[39;00m \u001b[38;5;28msuper\u001b[39m()\u001b[38;5;241m.\u001b[39mrecv_into(buffer, nbytes, flags)\n",
      "File \u001b[0;32m~/anaconda3/envs/scrapper/lib/python3.10/ssl.py:1163\u001b[0m, in \u001b[0;36mSSLSocket.read\u001b[0;34m(self, len, buffer)\u001b[0m\n\u001b[1;32m   1161\u001b[0m \u001b[38;5;28;01mtry\u001b[39;00m:\n\u001b[1;32m   1162\u001b[0m     \u001b[38;5;28;01mif\u001b[39;00m buffer \u001b[38;5;129;01mis\u001b[39;00m \u001b[38;5;129;01mnot\u001b[39;00m \u001b[38;5;28;01mNone\u001b[39;00m:\n\u001b[0;32m-> 1163\u001b[0m         \u001b[38;5;28;01mreturn\u001b[39;00m \u001b[38;5;28;43mself\u001b[39;49m\u001b[38;5;241;43m.\u001b[39;49m\u001b[43m_sslobj\u001b[49m\u001b[38;5;241;43m.\u001b[39;49m\u001b[43mread\u001b[49m\u001b[43m(\u001b[49m\u001b[38;5;28;43mlen\u001b[39;49m\u001b[43m,\u001b[49m\u001b[43m \u001b[49m\u001b[43mbuffer\u001b[49m\u001b[43m)\u001b[49m\n\u001b[1;32m   1164\u001b[0m     \u001b[38;5;28;01melse\u001b[39;00m:\n\u001b[1;32m   1165\u001b[0m         \u001b[38;5;28;01mreturn\u001b[39;00m \u001b[38;5;28mself\u001b[39m\u001b[38;5;241m.\u001b[39m_sslobj\u001b[38;5;241m.\u001b[39mread(\u001b[38;5;28mlen\u001b[39m)\n",
      "\u001b[0;31mKeyboardInterrupt\u001b[0m: "
     ]
    }
   ],
   "source": [
    "data['link'].apply(get_vehicle_info)"
   ]
  },
  {
   "cell_type": "code",
   "execution_count": 2,
   "metadata": {},
   "outputs": [],
   "source": [
    "link = 'https://carro.mercadolibre.com.co/MCO-1379439831-mercedes-benz-gle-350-d-4matic-2017-_JM#position=1&search_layout=grid&type=item&tracking_id=79a64cb3-adcf-4d29-be31-812b12b34cef'"
   ]
  },
  {
   "cell_type": "code",
   "execution_count": 11,
   "metadata": {},
   "outputs": [
    {
     "data": {
      "text/plain": [
       "'https://carro.mercadolibre.com.co/MCO-1379439831-mercedes-benz-gle-350-d-4matic-2017-_JM#position=1&search_layout=grid&type=item&tracking_id=79a64cb3-adcf-4d29-be31-812b12b34cef'"
      ]
     },
     "execution_count": 11,
     "metadata": {},
     "output_type": "execute_result"
    }
   ],
   "source": [
    "link"
   ]
  },
  {
   "cell_type": "code",
   "execution_count": 3,
   "metadata": {},
   "outputs": [],
   "source": [
    "r = requests.get(url=link)\n",
    "\n",
    "s = BeautifulSoup(r.content, 'html.parser')"
   ]
  },
  {
   "cell_type": "code",
   "execution_count": 4,
   "metadata": {},
   "outputs": [
    {
     "data": {
      "text/plain": [
       "189000000"
      ]
     },
     "execution_count": 4,
     "metadata": {},
     "output_type": "execute_result"
    }
   ],
   "source": [
    "# publication number\n",
    "\n",
    "int(s.find_all('span', attrs= {'class':'andes-money-amount__fraction'})[0].text.replace('.', ''))"
   ]
  },
  {
   "cell_type": "code",
   "execution_count": null,
   "metadata": {},
   "outputs": [],
   "source": []
  },
  {
   "cell_type": "code",
   "execution_count": 5,
   "metadata": {},
   "outputs": [
    {
     "data": {
      "text/plain": [
       "'1379439831'"
      ]
     },
     "execution_count": 5,
     "metadata": {},
     "output_type": "execute_result"
    }
   ],
   "source": [
    "# precio\n",
    "s.find_all('span', attrs= {'class':'ui-pdp-color--BLACK ui-pdp-family--SEMIBOLD'})[0].text.replace('#','')"
   ]
  },
  {
   "cell_type": "code",
   "execution_count": 16,
   "metadata": {},
   "outputs": [
    {
     "data": {
      "text/plain": [
       "{'Year': '2017',\n",
       " 'Kilometrage': '47800 ',\n",
       " 'Publication Date': 'Publicado hace 3 días',\n",
       " 'Location': 'Chicó Navarra - Usaquén - Bogotá D.C.',\n",
       " 'Pub Number': '1379439831',\n",
       " 'Created At': '2024-01-13 13:35:22'}"
      ]
     },
     "execution_count": 16,
     "metadata": {},
     "output_type": "execute_result"
    }
   ],
   "source": [
    "import datetime\n",
    "\n",
    "text = s.find_all('span', attrs= {'class':'ui-pdp-subtitle'})[0].text.replace('.', '')\n",
    "parts = text.split(' · ')\n",
    "location = s.find('p', attrs = {'class':'ui-seller-info__status-info__subtitle'}).text\n",
    "pub_number = s.find_all('span', attrs= {'class':'ui-pdp-color--BLACK ui-pdp-family--SEMIBOLD'})[0].text.replace('#','')\n",
    "year = parts[0].split(' | ')[0]\n",
    "kilometrage = parts[0].split(' | ')[1].replace('km', '')\n",
    "publication_date = parts[1]\n",
    "output_dict = {\n",
    "  \"Year\": year,\n",
    "  \"Kilometrage\": kilometrage,\n",
    "  \"Publication Date\": publication_date,\n",
    "  \"Location\": location,\n",
    "  \"Pub Number\": pub_number,\n",
    "  \"Created At\": datetime.datetime.now().strftime(\"%Y-%m-%d %H:%M:%S\")\n",
    "}\n",
    "\n",
    "output_dict"
   ]
  },
  {
   "cell_type": "code",
   "execution_count": null,
   "metadata": {},
   "outputs": [],
   "source": []
  },
  {
   "cell_type": "code",
   "execution_count": 7,
   "metadata": {},
   "outputs": [
    {
     "data": {
      "text/plain": [
       "'Chicó Navarra - Usaquén - Bogotá D.C.'"
      ]
     },
     "execution_count": 7,
     "metadata": {},
     "output_type": "execute_result"
    }
   ],
   "source": []
  },
  {
   "cell_type": "code",
   "execution_count": 8,
   "metadata": {},
   "outputs": [],
   "source": [
    "table = s.find_all('table', attrs= {'class': 'andes-table'})"
   ]
  },
  {
   "cell_type": "code",
   "execution_count": 9,
   "metadata": {},
   "outputs": [
    {
     "data": {
      "text/plain": [
       "[]"
      ]
     },
     "execution_count": 9,
     "metadata": {},
     "output_type": "execute_result"
    }
   ],
   "source": [
    "table"
   ]
  },
  {
   "cell_type": "code",
   "execution_count": 10,
   "metadata": {},
   "outputs": [
    {
     "ename": "IndexError",
     "evalue": "list index out of range",
     "output_type": "error",
     "traceback": [
      "\u001b[0;31m---------------------------------------------------------------------------\u001b[0m",
      "\u001b[0;31mIndexError\u001b[0m                                Traceback (most recent call last)",
      "Cell \u001b[0;32mIn[10], line 1\u001b[0m\n\u001b[0;32m----> 1\u001b[0m rows \u001b[38;5;241m=\u001b[39m \u001b[43mtable\u001b[49m\u001b[43m[\u001b[49m\u001b[38;5;241;43m0\u001b[39;49m\u001b[43m]\u001b[49m\u001b[38;5;241m.\u001b[39mfind_all(\u001b[38;5;124m'\u001b[39m\u001b[38;5;124mtr\u001b[39m\u001b[38;5;124m'\u001b[39m)\n\u001b[1;32m      2\u001b[0m rows\n",
      "\u001b[0;31mIndexError\u001b[0m: list index out of range"
     ]
    }
   ],
   "source": [
    "rows = table[0].find_all('tr')\n",
    "rows"
   ]
  },
  {
   "cell_type": "code",
   "execution_count": 106,
   "metadata": {},
   "outputs": [],
   "source": [
    "data = {}\n",
    "for row in rows:\n",
    "  cols = row.find_all(['th', 'td'])\n",
    "  cols = [ele.text.strip() for ele in cols]\n",
    "  data[cols[0]] = cols[1]\n"
   ]
  },
  {
   "cell_type": "code",
   "execution_count": 107,
   "metadata": {},
   "outputs": [
    {
     "data": {
      "text/plain": [
       "{'Marca': 'Mercedes-Benz',\n",
       " 'Modelo': 'Clase GLE',\n",
       " 'Año': '2017',\n",
       " 'Versión': '3.0 Coupe 4matic Diésel',\n",
       " 'Color': 'Gris',\n",
       " 'Tipo de combustible': 'Diésel',\n",
       " 'Puertas': '5',\n",
       " 'Transmisión': 'Automática',\n",
       " 'Motor': '3.0',\n",
       " 'Tipo de carrocería': 'Station Wagon',\n",
       " 'Kilómetros': '47800 km'}"
      ]
     },
     "execution_count": 107,
     "metadata": {},
     "output_type": "execute_result"
    }
   ],
   "source": [
    "data"
   ]
  },
  {
   "cell_type": "code",
   "execution_count": 22,
   "metadata": {},
   "outputs": [
    {
     "ename": "NameError",
     "evalue": "name 'rows' is not defined",
     "output_type": "error",
     "traceback": [
      "\u001b[0;31m---------------------------------------------------------------------------\u001b[0m",
      "\u001b[0;31mNameError\u001b[0m                                 Traceback (most recent call last)",
      "Cell \u001b[0;32mIn[22], line 1\u001b[0m\n\u001b[0;32m----> 1\u001b[0m \u001b[43mrows\u001b[49m\n",
      "\u001b[0;31mNameError\u001b[0m: name 'rows' is not defined"
     ]
    }
   ],
   "source": [
    "rows"
   ]
  },
  {
   "cell_type": "code",
   "execution_count": null,
   "metadata": {},
   "outputs": [],
   "source": []
  },
  {
   "cell_type": "code",
   "execution_count": 49,
   "metadata": {},
   "outputs": [],
   "source": [
    "dom = etree.HTML(str(s))"
   ]
  },
  {
   "cell_type": "code",
   "execution_count": 50,
   "metadata": {},
   "outputs": [
    {
     "data": {
      "text/plain": [
       "<Element html at 0x7baa0c6bbfc0>"
      ]
     },
     "execution_count": 50,
     "metadata": {},
     "output_type": "execute_result"
    }
   ],
   "source": [
    "dom"
   ]
  },
  {
   "cell_type": "code",
   "execution_count": 51,
   "metadata": {},
   "outputs": [
    {
     "data": {
      "text/plain": [
       "[]"
      ]
     },
     "execution_count": 51,
     "metadata": {},
     "output_type": "execute_result"
    }
   ],
   "source": [
    "dom.xpath(\"//table[@class = 'andes-table']\")"
   ]
  },
  {
   "cell_type": "code",
   "execution_count": null,
   "metadata": {},
   "outputs": [],
   "source": []
  }
 ],
 "metadata": {
  "kernelspec": {
   "display_name": "scrapper",
   "language": "python",
   "name": "python3"
  },
  "language_info": {
   "codemirror_mode": {
    "name": "ipython",
    "version": 3
   },
   "file_extension": ".py",
   "mimetype": "text/x-python",
   "name": "python",
   "nbconvert_exporter": "python",
   "pygments_lexer": "ipython3",
   "version": "3.10.13"
  }
 },
 "nbformat": 4,
 "nbformat_minor": 2
}
